{
 "cells": [
  {
   "cell_type": "code",
   "execution_count": 40,
   "metadata": {},
   "outputs": [],
   "source": [
    "import pandas as pd\n",
    "import pickle"
   ]
  },
  {
   "cell_type": "code",
   "execution_count": 33,
   "metadata": {},
   "outputs": [],
   "source": [
    "path = \"../../datathon/datathon\"\n",
    "\n",
    "outfit_data = pd.read_csv(path + \"/dataset/outfit_data.csv\")\n",
    "product_data = pd.read_csv(path + \"/dataset/product_data.csv\")"
   ]
  },
  {
   "cell_type": "code",
   "execution_count": 35,
   "metadata": {},
   "outputs": [
    {
     "data": {
      "text/html": [
       "<div>\n",
       "<style scoped>\n",
       "    .dataframe tbody tr th:only-of-type {\n",
       "        vertical-align: middle;\n",
       "    }\n",
       "\n",
       "    .dataframe tbody tr th {\n",
       "        vertical-align: top;\n",
       "    }\n",
       "\n",
       "    .dataframe thead th {\n",
       "        text-align: right;\n",
       "    }\n",
       "</style>\n",
       "<table border=\"1\" class=\"dataframe\">\n",
       "  <thead>\n",
       "    <tr style=\"text-align: right;\">\n",
       "      <th></th>\n",
       "      <th>cod_modelo_color_x</th>\n",
       "      <th>cod_modelo_color_y</th>\n",
       "    </tr>\n",
       "  </thead>\n",
       "  <tbody>\n",
       "    <tr>\n",
       "      <th>0</th>\n",
       "      <td>37000</td>\n",
       "      <td>[47087, 57050, 57081, 57003, 57010, 57083, 570...</td>\n",
       "    </tr>\n",
       "    <tr>\n",
       "      <th>1</th>\n",
       "      <td>37010</td>\n",
       "      <td>[47094, 57020, 57001, 47034, 57010, 57040, 470...</td>\n",
       "    </tr>\n",
       "    <tr>\n",
       "      <th>2</th>\n",
       "      <td>37027</td>\n",
       "      <td>[47005, 47095, 57010, 47050]</td>\n",
       "    </tr>\n",
       "    <tr>\n",
       "      <th>3</th>\n",
       "      <td>37040</td>\n",
       "      <td>[57024, 57046, 57005, 57006, 57025, 57034]</td>\n",
       "    </tr>\n",
       "    <tr>\n",
       "      <th>4</th>\n",
       "      <td>37050</td>\n",
       "      <td>[57050, 47015, 57091, 57032]</td>\n",
       "    </tr>\n",
       "    <tr>\n",
       "      <th>...</th>\n",
       "      <td>...</td>\n",
       "      <td>...</td>\n",
       "    </tr>\n",
       "    <tr>\n",
       "      <th>453</th>\n",
       "      <td>67091</td>\n",
       "      <td>[57095, 67020, 67000, 57029]</td>\n",
       "    </tr>\n",
       "    <tr>\n",
       "      <th>454</th>\n",
       "      <td>67106</td>\n",
       "      <td>[57025, 57095, 57037, 57088]</td>\n",
       "    </tr>\n",
       "    <tr>\n",
       "      <th>455</th>\n",
       "      <td>87040</td>\n",
       "      <td>[57093, 57000, 57001, 57010]</td>\n",
       "    </tr>\n",
       "    <tr>\n",
       "      <th>456</th>\n",
       "      <td>87062</td>\n",
       "      <td>[57040, 57071, 57063, 57073]</td>\n",
       "    </tr>\n",
       "    <tr>\n",
       "      <th>457</th>\n",
       "      <td>87097</td>\n",
       "      <td>[57095, 57020, 57010, 47088, 57084]</td>\n",
       "    </tr>\n",
       "  </tbody>\n",
       "</table>\n",
       "<p>458 rows × 2 columns</p>\n",
       "</div>"
      ],
      "text/plain": [
       "    cod_modelo_color_x                                 cod_modelo_color_y\n",
       "0                37000  [47087, 57050, 57081, 57003, 57010, 57083, 570...\n",
       "1                37010  [47094, 57020, 57001, 47034, 57010, 57040, 470...\n",
       "2                37027                       [47005, 47095, 57010, 47050]\n",
       "3                37040         [57024, 57046, 57005, 57006, 57025, 57034]\n",
       "4                37050                       [57050, 47015, 57091, 57032]\n",
       "..                 ...                                                ...\n",
       "453              67091                       [57095, 67020, 67000, 57029]\n",
       "454              67106                       [57025, 57095, 57037, 57088]\n",
       "455              87040                       [57093, 57000, 57001, 57010]\n",
       "456              87062                       [57040, 57071, 57063, 57073]\n",
       "457              87097                [57095, 57020, 57010, 47088, 57084]\n",
       "\n",
       "[458 rows x 2 columns]"
      ]
     },
     "execution_count": 35,
     "metadata": {},
     "output_type": "execute_result"
    }
   ],
   "source": [
    "outfit_data['cod_modelo_color'] = outfit_data['cod_modelo_color'].str.slice(stop=-3)\n",
    "outfit_data = outfit_data.drop_duplicates()\n",
    "merged_df = pd.merge(outfit_data, outfit_data, how='left', on='cod_outfit')\n",
    "merged_df = merged_df[merged_df['cod_modelo_color_x'] != merged_df['cod_modelo_color_y']]\n",
    "merged_df = merged_df.groupby('cod_modelo_color_x').agg({'cod_modelo_color_y': lambda x: list(x)}).reset_index()\n",
    "merged_df"
   ]
  },
  {
   "cell_type": "code",
   "execution_count": 39,
   "metadata": {},
   "outputs": [],
   "source": [
    "compatibilities = dict(zip(merged_df.cod_modelo_color_x, merged_df.cod_modelo_color_y))\n",
    "\n",
    "with open(path + '/dataset/compatibilities.pickle', 'wb') as handle:\n",
    "    pickle.dump(compatibilities, handle, protocol=pickle.HIGHEST_PROTOCOL)"
   ]
  },
  {
   "cell_type": "code",
   "execution_count": null,
   "metadata": {},
   "outputs": [],
   "source": []
  }
 ],
 "metadata": {
  "kernelspec": {
   "display_name": "Python 3",
   "language": "python",
   "name": "python3"
  },
  "language_info": {
   "codemirror_mode": {
    "name": "ipython",
    "version": 3
   },
   "file_extension": ".py",
   "mimetype": "text/x-python",
   "name": "python",
   "nbconvert_exporter": "python",
   "pygments_lexer": "ipython3",
   "version": "3.11.3"
  }
 },
 "nbformat": 4,
 "nbformat_minor": 2
}
