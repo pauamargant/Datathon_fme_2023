{
 "cells": [
  {
   "cell_type": "code",
   "execution_count": 2,
   "metadata": {},
   "outputs": [],
   "source": [
    "import pandas as pd\n",
    "import pickle"
   ]
  },
  {
   "cell_type": "code",
   "execution_count": 4,
   "metadata": {},
   "outputs": [],
   "source": [
    "path = \"dataset/\"\n",
    "\n",
    "outfit_data = pd.read_csv(path + \"/outfit_data.csv\")\n",
    "product_data = pd.read_csv(path + \"/product_data.csv\")"
   ]
  },
  {
   "cell_type": "code",
   "execution_count": 5,
   "metadata": {},
   "outputs": [
    {
     "data": {
      "text/html": [
       "<div>\n",
       "<style scoped>\n",
       "    .dataframe tbody tr th:only-of-type {\n",
       "        vertical-align: middle;\n",
       "    }\n",
       "\n",
       "    .dataframe tbody tr th {\n",
       "        vertical-align: top;\n",
       "    }\n",
       "\n",
       "    .dataframe thead th {\n",
       "        text-align: right;\n",
       "    }\n",
       "</style>\n",
       "<table border=\"1\" class=\"dataframe\">\n",
       "  <thead>\n",
       "    <tr style=\"text-align: right;\">\n",
       "      <th></th>\n",
       "      <th>cod_modelo_color_x</th>\n",
       "      <th>cod_modelo_color_y</th>\n",
       "    </tr>\n",
       "  </thead>\n",
       "  <tbody>\n",
       "    <tr>\n",
       "      <th>0</th>\n",
       "      <td>37000577</td>\n",
       "      <td>[47087124, 57050294, 57050111, 57081168, 57050...</td>\n",
       "    </tr>\n",
       "    <tr>\n",
       "      <th>1</th>\n",
       "      <td>37010681</td>\n",
       "      <td>[57040037, 57040047, 57040818, 47007135, 47037...</td>\n",
       "    </tr>\n",
       "    <tr>\n",
       "      <th>2</th>\n",
       "      <td>37010684</td>\n",
       "      <td>[47094023, 57020041, 57001059, 47034043, 57010...</td>\n",
       "    </tr>\n",
       "    <tr>\n",
       "      <th>3</th>\n",
       "      <td>37010741</td>\n",
       "      <td>[57040579, 57050294, 47007650, 57072505, 57040...</td>\n",
       "    </tr>\n",
       "    <tr>\n",
       "      <th>4</th>\n",
       "      <td>37027713</td>\n",
       "      <td>[47005949, 47095848, 57010292, 47050085]</td>\n",
       "    </tr>\n",
       "    <tr>\n",
       "      <th>...</th>\n",
       "      <td>...</td>\n",
       "      <td>...</td>\n",
       "    </tr>\n",
       "    <tr>\n",
       "      <th>6946</th>\n",
       "      <td>67091003</td>\n",
       "      <td>[57095923, 67020050, 67000502, 57029209]</td>\n",
       "    </tr>\n",
       "    <tr>\n",
       "      <th>6947</th>\n",
       "      <td>67106705</td>\n",
       "      <td>[57025921, 57095902, 57037880, 57088629]</td>\n",
       "    </tr>\n",
       "    <tr>\n",
       "      <th>6948</th>\n",
       "      <td>87040069</td>\n",
       "      <td>[57093253, 57000438, 57001503, 57010279]</td>\n",
       "    </tr>\n",
       "    <tr>\n",
       "      <th>6949</th>\n",
       "      <td>87062013</td>\n",
       "      <td>[57040459, 57071176, 57063817, 57073821]</td>\n",
       "    </tr>\n",
       "    <tr>\n",
       "      <th>6950</th>\n",
       "      <td>87097665</td>\n",
       "      <td>[57095786, 57020031, 57010290, 47088255, 57084...</td>\n",
       "    </tr>\n",
       "  </tbody>\n",
       "</table>\n",
       "<p>6951 rows × 2 columns</p>\n",
       "</div>"
      ],
      "text/plain": [
       "     cod_modelo_color_x                                 cod_modelo_color_y\n",
       "0              37000577  [47087124, 57050294, 57050111, 57081168, 57050...\n",
       "1              37010681  [57040037, 57040047, 57040818, 47007135, 47037...\n",
       "2              37010684  [47094023, 57020041, 57001059, 47034043, 57010...\n",
       "3              37010741  [57040579, 57050294, 47007650, 57072505, 57040...\n",
       "4              37027713           [47005949, 47095848, 57010292, 47050085]\n",
       "...                 ...                                                ...\n",
       "6946           67091003           [57095923, 67020050, 67000502, 57029209]\n",
       "6947           67106705           [57025921, 57095902, 57037880, 57088629]\n",
       "6948           87040069           [57093253, 57000438, 57001503, 57010279]\n",
       "6949           87062013           [57040459, 57071176, 57063817, 57073821]\n",
       "6950           87097665  [57095786, 57020031, 57010290, 47088255, 57084...\n",
       "\n",
       "[6951 rows x 2 columns]"
      ]
     },
     "execution_count": 5,
     "metadata": {},
     "output_type": "execute_result"
    }
   ],
   "source": [
    "outfit_data['cod_modelo_color'] = outfit_data['cod_modelo_color'].str.slice(stop=-3)\n",
    "outfit_data = outfit_data.drop_duplicates()\n",
    "merged_df = pd.merge(outfit_data, outfit_data, how='left', on='cod_outfit')\n",
    "merged_df = merged_df[merged_df['cod_modelo_color_x'] != merged_df['cod_modelo_color_y']]\n",
    "merged_df = merged_df.groupby('cod_modelo_color_x').agg({'cod_modelo_color_y': lambda x: list(x)}).reset_index()\n",
    "merged_df"
   ]
  },
  {
   "cell_type": "code",
   "execution_count": 6,
   "metadata": {},
   "outputs": [],
   "source": [
    "compatibilities = dict(zip(merged_df.cod_modelo_color_x, merged_df.cod_modelo_color_y))\n",
    "\n",
    "with open(path + 'compatibilities.pickle', 'wb') as handle:\n",
    "    pickle.dump(compatibilities, handle, protocol=pickle.HIGHEST_PROTOCOL)"
   ]
  }
 ],
 "metadata": {
  "kernelspec": {
   "display_name": "Python 3",
   "language": "python",
   "name": "python3"
  },
  "language_info": {
   "codemirror_mode": {
    "name": "ipython",
    "version": 3
   },
   "file_extension": ".py",
   "mimetype": "text/x-python",
   "name": "python",
   "nbconvert_exporter": "python",
   "pygments_lexer": "ipython3",
   "version": "3.11.3"
  }
 },
 "nbformat": 4,
 "nbformat_minor": 2
}
