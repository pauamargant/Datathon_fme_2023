{
 "cells": [
  {
   "cell_type": "code",
   "execution_count": 71,
   "metadata": {},
   "outputs": [],
   "source": [
    "import pandas as pd\n",
    "import pickle"
   ]
  },
  {
   "cell_type": "code",
   "execution_count": 72,
   "metadata": {},
   "outputs": [],
   "source": [
    "outfit_data = pd.read_csv(\"dataset/outfit_data_preprocessed.csv\")\n",
    "product_data = pd.read_csv(\"product_data_preprocessed.csv\")"
   ]
  },
  {
   "cell_type": "code",
   "execution_count": 74,
   "metadata": {},
   "outputs": [
    {
     "data": {
      "text/html": [
       "<div>\n",
       "<style scoped>\n",
       "    .dataframe tbody tr th:only-of-type {\n",
       "        vertical-align: middle;\n",
       "    }\n",
       "\n",
       "    .dataframe tbody tr th {\n",
       "        vertical-align: top;\n",
       "    }\n",
       "\n",
       "    .dataframe thead th {\n",
       "        text-align: right;\n",
       "    }\n",
       "</style>\n",
       "<table border=\"1\" class=\"dataframe\">\n",
       "  <thead>\n",
       "    <tr style=\"text-align: right;\">\n",
       "      <th></th>\n",
       "      <th>edge</th>\n",
       "    </tr>\n",
       "    <tr>\n",
       "      <th>cod_modelo_color_x</th>\n",
       "      <th></th>\n",
       "    </tr>\n",
       "  </thead>\n",
       "  <tbody>\n",
       "    <tr>\n",
       "      <th>41041002-02</th>\n",
       "      <td>[(41039067-05, 0.5)]</td>\n",
       "    </tr>\n",
       "    <tr>\n",
       "      <th>41045021-02</th>\n",
       "      <td>[(41025020-02, 0.14285714285714285)]</td>\n",
       "    </tr>\n",
       "    <tr>\n",
       "      <th>41045815-45</th>\n",
       "      <td>[(41039067-05, 0.25)]</td>\n",
       "    </tr>\n",
       "    <tr>\n",
       "      <th>41065822-50</th>\n",
       "      <td>[(41055822-08, 1.0)]</td>\n",
       "    </tr>\n",
       "    <tr>\n",
       "      <th>41083009-08</th>\n",
       "      <td>[(41069066-05, 0.14285714285714285)]</td>\n",
       "    </tr>\n",
       "    <tr>\n",
       "      <th>...</th>\n",
       "      <td>...</td>\n",
       "    </tr>\n",
       "    <tr>\n",
       "      <th>67091003-99</th>\n",
       "      <td>[(57029209-99, 1.0), (57095923-99, 1.0), (6700...</td>\n",
       "    </tr>\n",
       "    <tr>\n",
       "      <th>67106705-99</th>\n",
       "      <td>[(57025921-OR, 1.0), (57037880-OR, 1.0), (5708...</td>\n",
       "    </tr>\n",
       "    <tr>\n",
       "      <th>87040069-OR</th>\n",
       "      <td>[(57000438-OR, 1.0), (57001503-02, 1.0), (5701...</td>\n",
       "    </tr>\n",
       "    <tr>\n",
       "      <th>87062013-OR</th>\n",
       "      <td>[(57040459-99, 1.0), (57063817-99, 1.0), (5707...</td>\n",
       "    </tr>\n",
       "    <tr>\n",
       "      <th>87097665-99</th>\n",
       "      <td>[(47088255-37, 1.0), (57010290-TN, 1.0), (5702...</td>\n",
       "    </tr>\n",
       "  </tbody>\n",
       "</table>\n",
       "<p>7853 rows × 1 columns</p>\n",
       "</div>"
      ],
      "text/plain": [
       "                                                                 edge\n",
       "cod_modelo_color_x                                                   \n",
       "41041002-02                                      [(41039067-05, 0.5)]\n",
       "41045021-02                      [(41025020-02, 0.14285714285714285)]\n",
       "41045815-45                                     [(41039067-05, 0.25)]\n",
       "41065822-50                                      [(41055822-08, 1.0)]\n",
       "41083009-08                      [(41069066-05, 0.14285714285714285)]\n",
       "...                                                               ...\n",
       "67091003-99         [(57029209-99, 1.0), (57095923-99, 1.0), (6700...\n",
       "67106705-99         [(57025921-OR, 1.0), (57037880-OR, 1.0), (5708...\n",
       "87040069-OR         [(57000438-OR, 1.0), (57001503-02, 1.0), (5701...\n",
       "87062013-OR         [(57040459-99, 1.0), (57063817-99, 1.0), (5707...\n",
       "87097665-99         [(47088255-37, 1.0), (57010290-TN, 1.0), (5702...\n",
       "\n",
       "[7853 rows x 1 columns]"
      ]
     },
     "execution_count": 74,
     "metadata": {},
     "output_type": "execute_result"
    }
   ],
   "source": [
    "# outfit_data['cod_modelo_color'] = outfit_data['cod_modelo_color'].str.slice(stop=-3)\n",
    "outfit_data = outfit_data.drop_duplicates()\n",
    "product_counts = outfit_data.groupby('cod_modelo_color').size().reset_index(name='counts')\n",
    "\n",
    "merged_df = pd.merge(outfit_data, outfit_data, how='left', on='cod_outfit')\n",
    "merged_df = merged_df[merged_df['cod_modelo_color_x'] > merged_df['cod_modelo_color_y']]\n",
    "merged_df = merged_df.groupby(['cod_modelo_color_x', 'cod_modelo_color_y']).size().reset_index(name='weight')\n",
    "\n",
    "# normalize the weights by the number of times the product appears in an outfit\n",
    "merged_df = pd.merge(merged_df, product_counts, how='left', left_on='cod_modelo_color_x', right_on='cod_modelo_color')\n",
    "# the set is analysed over the condition merged_df['cod_modelo_color_x'] > merged_df['cod_modelo_color_y']\n",
    "# it means analysing only the superior diagonal matrix associated to the graph  \n",
    "merged_df['weight'] = merged_df['weight'] / merged_df['counts']\n",
    "\n",
    "merged_df['edge'] = merged_df.apply(lambda x: (x['cod_modelo_color_y'], x['weight']), axis=1)\n",
    "merged_df = merged_df.groupby('cod_modelo_color_x').agg({'edge': lambda x: list(x)})\n",
    "merged_df"
   ]
  },
  {
   "cell_type": "code",
   "execution_count": 83,
   "metadata": {},
   "outputs": [],
   "source": [
    "pruning_table = pd.merge(product_data, product_data, how='left', on='des_product_aggregated_family')\n",
    "pruning_table = pruning_table[pruning_table['cod_modelo_color_x'] > pruning_table['cod_modelo_color_y']]\n",
    "pruning_table = pruning_table.groupby('cod_modelo_color_x').agg({'cod_modelo_color_y': lambda x: list(x)})\n",
    "\n",
    "pruning_table_dict = pruning_table.to_dict()['cod_modelo_color_y']"
   ]
  },
  {
   "cell_type": "code",
   "execution_count": 76,
   "metadata": {},
   "outputs": [],
   "source": [
    "import networkx as nx\n",
    "\n",
    "G = nx.Graph()\n",
    "\n",
    "for row in merged_df.iterrows():\n",
    "    nodei = row[0]\n",
    "    for edge in row[1]['edge']:\n",
    "        nodej = edge[0]\n",
    "        if not nodei in pruning_table_dict or not nodej in pruning_table_dict[nodei]:\n",
    "            G.add_edge(nodei, nodej, weight=edge[1])\n"
   ]
  },
  {
   "cell_type": "code",
   "execution_count": 77,
   "metadata": {},
   "outputs": [],
   "source": [
    "communities = nx.community.louvain_communities(G, weight='weight', resolution=4)"
   ]
  },
  {
   "cell_type": "code",
   "execution_count": 78,
   "metadata": {},
   "outputs": [
    {
     "data": {
      "text/plain": [
       "33     360\n",
       "117    176\n",
       "51     164\n",
       "11     155\n",
       "34     151\n",
       "      ... \n",
       "110      4\n",
       "35       3\n",
       "18       2\n",
       "63       2\n",
       "122      2\n",
       "Name: community_id, Length: 124, dtype: int64"
      ]
     },
     "execution_count": 78,
     "metadata": {},
     "output_type": "execute_result"
    }
   ],
   "source": [
    "# create a list of tuples with id and community\n",
    "communities = list(communities)\n",
    "data = []\n",
    "for i, community in enumerate(communities):\n",
    "    data += [(i, item) for item in community]\n",
    "df = pd.DataFrame(data, columns=['community_id', 'cod_modelo_color'])\n",
    "df[\"community_id\"].value_counts()"
   ]
  },
  {
   "cell_type": "code",
   "execution_count": 79,
   "metadata": {},
   "outputs": [
    {
     "name": "stdout",
     "output_type": "stream",
     "text": [
      "124\n"
     ]
    }
   ],
   "source": [
    "communities = list(communities)\n",
    "\n",
    "print(len(communities))"
   ]
  },
  {
   "cell_type": "code",
   "execution_count": 80,
   "metadata": {},
   "outputs": [],
   "source": [
    "compatibilities = {}\n",
    "for i, community in enumerate(communities):\n",
    "    for item in community:\n",
    "        compatibilities[item] = i\n",
    "               \n",
    "with open(path + 'compatibilities.pickle', 'wb') as handle:\n",
    "    pickle.dump(compatibilities, handle, protocol=pickle.HIGHEST_PROTOCOL)"
   ]
  }
 ],
 "metadata": {
  "kernelspec": {
   "display_name": "Python 3",
   "language": "python",
   "name": "python3"
  },
  "language_info": {
   "codemirror_mode": {
    "name": "ipython",
    "version": 3
   },
   "file_extension": ".py",
   "mimetype": "text/x-python",
   "name": "python",
   "nbconvert_exporter": "python",
   "pygments_lexer": "ipython3",
   "version": "3.9.7"
  }
 },
 "nbformat": 4,
 "nbformat_minor": 2
}
