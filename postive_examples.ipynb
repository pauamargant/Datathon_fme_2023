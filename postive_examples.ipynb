{
 "cells": [
  {
   "cell_type": "code",
   "execution_count": 2,
   "metadata": {},
   "outputs": [],
   "source": [
    "import pandas as pd\n",
    "import pickle"
   ]
  },
  {
   "cell_type": "code",
   "execution_count": 3,
   "metadata": {},
   "outputs": [],
   "source": [
    "path = \"dataset/\"\n",
    "\n",
    "outfit_data = pd.read_csv(path + \"/outfit_data.csv\")\n",
    "product_data = pd.read_csv(path + \"/product_data.csv\")"
   ]
  },
  {
   "cell_type": "code",
   "execution_count": 4,
   "metadata": {},
   "outputs": [],
   "source": [
    "non_interseting = product_data[product_data['des_product_family'].isin(['Fragances', 'Deco Accessories', 'Intimate', 'Deco Textiles', 'Bedding'])]\n",
    "\n",
    "non_interseting_codes = non_interseting['cod_modelo_color']\n",
    "outfit_data = outfit_data[~outfit_data['cod_modelo_color'].isin(non_interseting_codes)]"
   ]
  },
  {
   "cell_type": "code",
   "execution_count": 5,
   "metadata": {},
   "outputs": [
    {
     "data": {
      "text/html": [
       "<div>\n",
       "<style scoped>\n",
       "    .dataframe tbody tr th:only-of-type {\n",
       "        vertical-align: middle;\n",
       "    }\n",
       "\n",
       "    .dataframe tbody tr th {\n",
       "        vertical-align: top;\n",
       "    }\n",
       "\n",
       "    .dataframe thead th {\n",
       "        text-align: right;\n",
       "    }\n",
       "</style>\n",
       "<table border=\"1\" class=\"dataframe\">\n",
       "  <thead>\n",
       "    <tr style=\"text-align: right;\">\n",
       "      <th></th>\n",
       "      <th>edge</th>\n",
       "    </tr>\n",
       "    <tr>\n",
       "      <th>cod_modelo_color_x</th>\n",
       "      <th></th>\n",
       "    </tr>\n",
       "  </thead>\n",
       "  <tbody>\n",
       "    <tr>\n",
       "      <th>41041002-02</th>\n",
       "      <td>[(41039067-05, 0.5)]</td>\n",
       "    </tr>\n",
       "    <tr>\n",
       "      <th>41045021-02</th>\n",
       "      <td>[(41025020-02, 0.14285714285714285)]</td>\n",
       "    </tr>\n",
       "    <tr>\n",
       "      <th>41045815-45</th>\n",
       "      <td>[(41039067-05, 0.25)]</td>\n",
       "    </tr>\n",
       "    <tr>\n",
       "      <th>41065822-50</th>\n",
       "      <td>[(41055822-08, 1.0)]</td>\n",
       "    </tr>\n",
       "    <tr>\n",
       "      <th>41083009-08</th>\n",
       "      <td>[(41069066-05, 0.14285714285714285)]</td>\n",
       "    </tr>\n",
       "    <tr>\n",
       "      <th>...</th>\n",
       "      <td>...</td>\n",
       "    </tr>\n",
       "    <tr>\n",
       "      <th>67091003-99</th>\n",
       "      <td>[(57029209-99, 1.0), (57095923-99, 1.0), (6700...</td>\n",
       "    </tr>\n",
       "    <tr>\n",
       "      <th>67106705-99</th>\n",
       "      <td>[(57025921-OR, 1.0), (57037880-OR, 1.0), (5708...</td>\n",
       "    </tr>\n",
       "    <tr>\n",
       "      <th>87040069-OR</th>\n",
       "      <td>[(57000438-OR, 1.0), (57001503-02, 1.0), (5701...</td>\n",
       "    </tr>\n",
       "    <tr>\n",
       "      <th>87062013-OR</th>\n",
       "      <td>[(57040459-99, 1.0), (57063817-99, 1.0), (5707...</td>\n",
       "    </tr>\n",
       "    <tr>\n",
       "      <th>87097665-99</th>\n",
       "      <td>[(47088255-37, 1.0), (57010290-TN, 1.0), (5702...</td>\n",
       "    </tr>\n",
       "  </tbody>\n",
       "</table>\n",
       "<p>7875 rows × 1 columns</p>\n",
       "</div>"
      ],
      "text/plain": [
       "                                                                 edge\n",
       "cod_modelo_color_x                                                   \n",
       "41041002-02                                      [(41039067-05, 0.5)]\n",
       "41045021-02                      [(41025020-02, 0.14285714285714285)]\n",
       "41045815-45                                     [(41039067-05, 0.25)]\n",
       "41065822-50                                      [(41055822-08, 1.0)]\n",
       "41083009-08                      [(41069066-05, 0.14285714285714285)]\n",
       "...                                                               ...\n",
       "67091003-99         [(57029209-99, 1.0), (57095923-99, 1.0), (6700...\n",
       "67106705-99         [(57025921-OR, 1.0), (57037880-OR, 1.0), (5708...\n",
       "87040069-OR         [(57000438-OR, 1.0), (57001503-02, 1.0), (5701...\n",
       "87062013-OR         [(57040459-99, 1.0), (57063817-99, 1.0), (5707...\n",
       "87097665-99         [(47088255-37, 1.0), (57010290-TN, 1.0), (5702...\n",
       "\n",
       "[7875 rows x 1 columns]"
      ]
     },
     "execution_count": 5,
     "metadata": {},
     "output_type": "execute_result"
    }
   ],
   "source": [
    "# outfit_data['cod_modelo_color'] = outfit_data['cod_modelo_color'].str.slice(stop=-3)\n",
    "outfit_data = outfit_data.drop_duplicates()\n",
    "product_counts = outfit_data.groupby('cod_modelo_color').size().reset_index(name='counts')\n",
    "\n",
    "merged_df = pd.merge(outfit_data, outfit_data, how='left', on='cod_outfit')\n",
    "merged_df = merged_df[merged_df['cod_modelo_color_x'] > merged_df['cod_modelo_color_y']]\n",
    "merged_df = merged_df.groupby(['cod_modelo_color_x', 'cod_modelo_color_y']).size().reset_index(name='weight')\n",
    "\n",
    "# normalize the weights by the number of times the product appears in an outfit\n",
    "merged_df = pd.merge(merged_df, product_counts, how='left', left_on='cod_modelo_color_x', right_on='cod_modelo_color')\n",
    "# the set is analysed over the condition merged_df['cod_modelo_color_x'] > merged_df['cod_modelo_color_y']\n",
    "# it means analysing only the superior diagonal matrix associated to the graph  \n",
    "merged_df['weight'] = merged_df['weight'] / merged_df['counts']\n",
    "\n",
    "merged_df['edge'] = merged_df.apply(lambda x: (x['cod_modelo_color_y'], x['weight']), axis=1)\n",
    "merged_df = merged_df.groupby('cod_modelo_color_x').agg({'edge': lambda x: list(x)})\n",
    "merged_df"
   ]
  },
  {
   "cell_type": "code",
   "execution_count": 11,
   "metadata": {},
   "outputs": [
    {
     "ename": "KeyboardInterrupt",
     "evalue": "",
     "output_type": "error",
     "traceback": [
      "\u001b[0;31m---------------------------------------------------------------------------\u001b[0m",
      "\u001b[0;31mKeyboardInterrupt\u001b[0m                         Traceback (most recent call last)",
      "\u001b[1;32m/Users/gianlucagraziadei/Desktop/Datathon_fme_2023/postive_examples.ipynb Cella 5\u001b[0m line \u001b[0;36m1\n\u001b[1;32m     <a href='vscode-notebook-cell:/Users/gianlucagraziadei/Desktop/Datathon_fme_2023/postive_examples.ipynb#W4sZmlsZQ%3D%3D?line=9'>10</a>\u001b[0m \u001b[39mfor\u001b[39;00m edge \u001b[39min\u001b[39;00m row[\u001b[39m1\u001b[39m][\u001b[39m'\u001b[39m\u001b[39medge\u001b[39m\u001b[39m'\u001b[39m]:\n\u001b[1;32m     <a href='vscode-notebook-cell:/Users/gianlucagraziadei/Desktop/Datathon_fme_2023/postive_examples.ipynb#W4sZmlsZQ%3D%3D?line=10'>11</a>\u001b[0m     nodej \u001b[39m=\u001b[39m edge[\u001b[39m0\u001b[39m]\n\u001b[0;32m---> <a href='vscode-notebook-cell:/Users/gianlucagraziadei/Desktop/Datathon_fme_2023/postive_examples.ipynb#W4sZmlsZQ%3D%3D?line=11'>12</a>\u001b[0m     \u001b[39mif\u001b[39;00m pruning_table[(pruning_table[\u001b[39m'\u001b[39;49m\u001b[39mcod_modelo_color_x\u001b[39;49m\u001b[39m'\u001b[39;49m] \u001b[39m==\u001b[39;49m nodei) \u001b[39m&\u001b[39m (pruning_table[\u001b[39m'\u001b[39m\u001b[39mcod_modelo_color_y\u001b[39m\u001b[39m'\u001b[39m] \u001b[39m==\u001b[39m nodej)]\u001b[39m.\u001b[39mempty:\n\u001b[1;32m     <a href='vscode-notebook-cell:/Users/gianlucagraziadei/Desktop/Datathon_fme_2023/postive_examples.ipynb#W4sZmlsZQ%3D%3D?line=12'>13</a>\u001b[0m         G\u001b[39m.\u001b[39madd_edge(nodei, nodej, weight\u001b[39m=\u001b[39medge[\u001b[39m1\u001b[39m])\n",
      "File \u001b[0;32m/usr/local/lib/python3.9/site-packages/pandas/core/ops/common.py:72\u001b[0m, in \u001b[0;36m_unpack_zerodim_and_defer.<locals>.new_method\u001b[0;34m(self, other)\u001b[0m\n\u001b[1;32m     68\u001b[0m             \u001b[39mreturn\u001b[39;00m \u001b[39mNotImplemented\u001b[39m\n\u001b[1;32m     70\u001b[0m other \u001b[39m=\u001b[39m item_from_zerodim(other)\n\u001b[0;32m---> 72\u001b[0m \u001b[39mreturn\u001b[39;00m method(\u001b[39mself\u001b[39;49m, other)\n",
      "File \u001b[0;32m/usr/local/lib/python3.9/site-packages/pandas/core/arraylike.py:42\u001b[0m, in \u001b[0;36mOpsMixin.__eq__\u001b[0;34m(self, other)\u001b[0m\n\u001b[1;32m     40\u001b[0m \u001b[39m@unpack_zerodim_and_defer\u001b[39m(\u001b[39m\"\u001b[39m\u001b[39m__eq__\u001b[39m\u001b[39m\"\u001b[39m)\n\u001b[1;32m     41\u001b[0m \u001b[39mdef\u001b[39;00m \u001b[39m__eq__\u001b[39m(\u001b[39mself\u001b[39m, other):\n\u001b[0;32m---> 42\u001b[0m     \u001b[39mreturn\u001b[39;00m \u001b[39mself\u001b[39;49m\u001b[39m.\u001b[39;49m_cmp_method(other, operator\u001b[39m.\u001b[39;49meq)\n",
      "File \u001b[0;32m/usr/local/lib/python3.9/site-packages/pandas/core/series.py:6243\u001b[0m, in \u001b[0;36mSeries._cmp_method\u001b[0;34m(self, other, op)\u001b[0m\n\u001b[1;32m   6240\u001b[0m rvalues \u001b[39m=\u001b[39m extract_array(other, extract_numpy\u001b[39m=\u001b[39m\u001b[39mTrue\u001b[39;00m, extract_range\u001b[39m=\u001b[39m\u001b[39mTrue\u001b[39;00m)\n\u001b[1;32m   6242\u001b[0m \u001b[39mwith\u001b[39;00m np\u001b[39m.\u001b[39merrstate(\u001b[39mall\u001b[39m\u001b[39m=\u001b[39m\u001b[39m\"\u001b[39m\u001b[39mignore\u001b[39m\u001b[39m\"\u001b[39m):\n\u001b[0;32m-> 6243\u001b[0m     res_values \u001b[39m=\u001b[39m ops\u001b[39m.\u001b[39;49mcomparison_op(lvalues, rvalues, op)\n\u001b[1;32m   6245\u001b[0m \u001b[39mreturn\u001b[39;00m \u001b[39mself\u001b[39m\u001b[39m.\u001b[39m_construct_result(res_values, name\u001b[39m=\u001b[39mres_name)\n",
      "File \u001b[0;32m/usr/local/lib/python3.9/site-packages/pandas/core/ops/array_ops.py:287\u001b[0m, in \u001b[0;36mcomparison_op\u001b[0;34m(left, right, op)\u001b[0m\n\u001b[1;32m    284\u001b[0m     \u001b[39mreturn\u001b[39;00m invalid_comparison(lvalues, rvalues, op)\n\u001b[1;32m    286\u001b[0m \u001b[39melif\u001b[39;00m is_object_dtype(lvalues\u001b[39m.\u001b[39mdtype) \u001b[39mor\u001b[39;00m \u001b[39misinstance\u001b[39m(rvalues, \u001b[39mstr\u001b[39m):\n\u001b[0;32m--> 287\u001b[0m     res_values \u001b[39m=\u001b[39m comp_method_OBJECT_ARRAY(op, lvalues, rvalues)\n\u001b[1;32m    289\u001b[0m \u001b[39melse\u001b[39;00m:\n\u001b[1;32m    290\u001b[0m     res_values \u001b[39m=\u001b[39m _na_arithmetic_op(lvalues, rvalues, op, is_cmp\u001b[39m=\u001b[39m\u001b[39mTrue\u001b[39;00m)\n",
      "File \u001b[0;32m/usr/local/lib/python3.9/site-packages/pandas/core/ops/array_ops.py:75\u001b[0m, in \u001b[0;36mcomp_method_OBJECT_ARRAY\u001b[0;34m(op, x, y)\u001b[0m\n\u001b[1;32m     73\u001b[0m     result \u001b[39m=\u001b[39m libops\u001b[39m.\u001b[39mvec_compare(x\u001b[39m.\u001b[39mravel(), y\u001b[39m.\u001b[39mravel(), op)\n\u001b[1;32m     74\u001b[0m \u001b[39melse\u001b[39;00m:\n\u001b[0;32m---> 75\u001b[0m     result \u001b[39m=\u001b[39m libops\u001b[39m.\u001b[39;49mscalar_compare(x\u001b[39m.\u001b[39;49mravel(), y, op)\n\u001b[1;32m     76\u001b[0m \u001b[39mreturn\u001b[39;00m result\u001b[39m.\u001b[39mreshape(x\u001b[39m.\u001b[39mshape)\n",
      "\u001b[0;31mKeyboardInterrupt\u001b[0m: "
     ]
    }
   ],
   "source": [
    "import networkx as nx\n",
    "\n",
    "G = nx.Graph()\n",
    "\n",
    "pruning_table = pd.merge(product_data, product_data, how='left', on='des_product_family')\n",
    "pruning_table = pruning_table[pruning_table['cod_modelo_color_x'] > pruning_table['cod_modelo_color_y']]\n",
    "\n",
    "for row in merged_df.iterrows():\n",
    "    nodei = row[0]\n",
    "    for edge in row[1]['edge']:\n",
    "        nodej = edge[0]\n",
    "        if pruning_table[(pruning_table['cod_modelo_color_x'] == nodei) & (pruning_table['cod_modelo_color_y'] == nodej)].empty:\n",
    "            G.add_edge(nodei, nodej, weight=edge[1])\n"
   ]
  },
  {
   "cell_type": "code",
   "execution_count": 21,
   "metadata": {},
   "outputs": [],
   "source": [
    "communities = nx.community.louvain_communities(G)"
   ]
  },
  {
   "cell_type": "code",
   "execution_count": 13,
   "metadata": {},
   "outputs": [
    {
     "ename": "NameError",
     "evalue": "name 'communities' is not defined",
     "output_type": "error",
     "traceback": [
      "\u001b[0;31m---------------------------------------------------------------------------\u001b[0m",
      "\u001b[0;31mNameError\u001b[0m                                 Traceback (most recent call last)",
      "\u001b[1;32m/Users/gianlucagraziadei/Desktop/Datathon_fme_2023/postive_examples.ipynb Cella 7\u001b[0m line \u001b[0;36m3\n\u001b[1;32m      <a href='vscode-notebook-cell:/Users/gianlucagraziadei/Desktop/Datathon_fme_2023/postive_examples.ipynb#W6sZmlsZQ%3D%3D?line=0'>1</a>\u001b[0m \u001b[39m# create a list of tuples with id and community\u001b[39;00m\n\u001b[0;32m----> <a href='vscode-notebook-cell:/Users/gianlucagraziadei/Desktop/Datathon_fme_2023/postive_examples.ipynb#W6sZmlsZQ%3D%3D?line=2'>3</a>\u001b[0m communities \u001b[39m=\u001b[39m \u001b[39mlist\u001b[39m(communities)\n\u001b[1;32m      <a href='vscode-notebook-cell:/Users/gianlucagraziadei/Desktop/Datathon_fme_2023/postive_examples.ipynb#W6sZmlsZQ%3D%3D?line=4'>5</a>\u001b[0m data \u001b[39m=\u001b[39m []\n\u001b[1;32m      <a href='vscode-notebook-cell:/Users/gianlucagraziadei/Desktop/Datathon_fme_2023/postive_examples.ipynb#W6sZmlsZQ%3D%3D?line=6'>7</a>\u001b[0m \u001b[39mfor\u001b[39;00m i, community \u001b[39min\u001b[39;00m \u001b[39menumerate\u001b[39m(communities):\n",
      "\u001b[0;31mNameError\u001b[0m: name 'communities' is not defined"
     ]
    }
   ],
   "source": [
    "# create a list of tuples with id and community\n",
    "\n",
    "communities = list(communities)\n",
    "\n",
    "\n",
    "data = []\n",
    "\n",
    "for i, community in enumerate(communities):\n",
    "    data += [(i, item) for item in community]\n",
    "\n",
    "data"
   ]
  },
  {
   "cell_type": "code",
   "execution_count": 12,
   "metadata": {},
   "outputs": [
    {
     "ename": "NameError",
     "evalue": "name 'communities' is not defined",
     "output_type": "error",
     "traceback": [
      "\u001b[0;31m---------------------------------------------------------------------------\u001b[0m",
      "\u001b[0;31mNameError\u001b[0m                                 Traceback (most recent call last)",
      "\u001b[1;32m/Users/gianlucagraziadei/Desktop/Datathon_fme_2023/postive_examples.ipynb Cella 8\u001b[0m line \u001b[0;36m1\n\u001b[0;32m----> <a href='vscode-notebook-cell:/Users/gianlucagraziadei/Desktop/Datathon_fme_2023/postive_examples.ipynb#X10sZmlsZQ%3D%3D?line=0'>1</a>\u001b[0m communities \u001b[39m=\u001b[39m \u001b[39mlist\u001b[39m(communities)\n\u001b[1;32m      <a href='vscode-notebook-cell:/Users/gianlucagraziadei/Desktop/Datathon_fme_2023/postive_examples.ipynb#X10sZmlsZQ%3D%3D?line=1'>2</a>\u001b[0m \u001b[39mprint\u001b[39m(\u001b[39mlen\u001b[39m(communities))\n",
      "\u001b[0;31mNameError\u001b[0m: name 'communities' is not defined"
     ]
    }
   ],
   "source": [
    "communities = list(communities)\n",
    "print(len(communities))"
   ]
  },
  {
   "cell_type": "code",
   "execution_count": 24,
   "metadata": {},
   "outputs": [
    {
     "ename": "AttributeError",
     "evalue": "'DataFrame' object has no attribute 'cod_modelo_color_x'",
     "output_type": "error",
     "traceback": [
      "\u001b[0;31m---------------------------------------------------------------------------\u001b[0m",
      "\u001b[0;31mAttributeError\u001b[0m                            Traceback (most recent call last)",
      "\u001b[0;32m/var/folders/gt/q1h9tyjx041594qghth8whmc0000gn/T/ipykernel_60993/2539168053.py\u001b[0m in \u001b[0;36m?\u001b[0;34m()\u001b[0m\n\u001b[0;32m----> 1\u001b[0;31m \u001b[0mcompatibilities\u001b[0m \u001b[0;34m=\u001b[0m \u001b[0mdict\u001b[0m\u001b[0;34m(\u001b[0m\u001b[0mzip\u001b[0m\u001b[0;34m(\u001b[0m\u001b[0mmerged_df\u001b[0m\u001b[0;34m.\u001b[0m\u001b[0mcod_modelo_color_x\u001b[0m\u001b[0;34m,\u001b[0m \u001b[0mmerged_df\u001b[0m\u001b[0;34m.\u001b[0m\u001b[0mcod_modelo_color_y\u001b[0m\u001b[0;34m)\u001b[0m\u001b[0;34m)\u001b[0m\u001b[0;34m\u001b[0m\u001b[0;34m\u001b[0m\u001b[0m\n\u001b[0m\u001b[1;32m      2\u001b[0m \u001b[0;34m\u001b[0m\u001b[0m\n\u001b[1;32m      3\u001b[0m \u001b[0;32mwith\u001b[0m \u001b[0mopen\u001b[0m\u001b[0;34m(\u001b[0m\u001b[0mpath\u001b[0m \u001b[0;34m+\u001b[0m \u001b[0;34m'compatibilities.pickle'\u001b[0m\u001b[0;34m,\u001b[0m \u001b[0;34m'wb'\u001b[0m\u001b[0;34m)\u001b[0m \u001b[0;32mas\u001b[0m \u001b[0mhandle\u001b[0m\u001b[0;34m:\u001b[0m\u001b[0;34m\u001b[0m\u001b[0;34m\u001b[0m\u001b[0m\n\u001b[1;32m      4\u001b[0m     \u001b[0mpickle\u001b[0m\u001b[0;34m.\u001b[0m\u001b[0mdump\u001b[0m\u001b[0;34m(\u001b[0m\u001b[0mcompatibilities\u001b[0m\u001b[0;34m,\u001b[0m \u001b[0mhandle\u001b[0m\u001b[0;34m,\u001b[0m \u001b[0mprotocol\u001b[0m\u001b[0;34m=\u001b[0m\u001b[0mpickle\u001b[0m\u001b[0;34m.\u001b[0m\u001b[0mHIGHEST_PROTOCOL\u001b[0m\u001b[0;34m)\u001b[0m\u001b[0;34m\u001b[0m\u001b[0;34m\u001b[0m\u001b[0m\n",
      "\u001b[0;32m/usr/local/lib/python3.9/site-packages/pandas/core/generic.py\u001b[0m in \u001b[0;36m?\u001b[0;34m(self, name)\u001b[0m\n\u001b[1;32m   5898\u001b[0m             \u001b[0;32mand\u001b[0m \u001b[0mname\u001b[0m \u001b[0;32mnot\u001b[0m \u001b[0;32min\u001b[0m \u001b[0mself\u001b[0m\u001b[0;34m.\u001b[0m\u001b[0m_accessors\u001b[0m\u001b[0;34m\u001b[0m\u001b[0;34m\u001b[0m\u001b[0m\n\u001b[1;32m   5899\u001b[0m             \u001b[0;32mand\u001b[0m \u001b[0mself\u001b[0m\u001b[0;34m.\u001b[0m\u001b[0m_info_axis\u001b[0m\u001b[0;34m.\u001b[0m\u001b[0m_can_hold_identifiers_and_holds_name\u001b[0m\u001b[0;34m(\u001b[0m\u001b[0mname\u001b[0m\u001b[0;34m)\u001b[0m\u001b[0;34m\u001b[0m\u001b[0;34m\u001b[0m\u001b[0m\n\u001b[1;32m   5900\u001b[0m         ):\n\u001b[1;32m   5901\u001b[0m             \u001b[0;32mreturn\u001b[0m \u001b[0mself\u001b[0m\u001b[0;34m[\u001b[0m\u001b[0mname\u001b[0m\u001b[0;34m]\u001b[0m\u001b[0;34m\u001b[0m\u001b[0;34m\u001b[0m\u001b[0m\n\u001b[0;32m-> 5902\u001b[0;31m         \u001b[0;32mreturn\u001b[0m \u001b[0mobject\u001b[0m\u001b[0;34m.\u001b[0m\u001b[0m__getattribute__\u001b[0m\u001b[0;34m(\u001b[0m\u001b[0mself\u001b[0m\u001b[0;34m,\u001b[0m \u001b[0mname\u001b[0m\u001b[0;34m)\u001b[0m\u001b[0;34m\u001b[0m\u001b[0;34m\u001b[0m\u001b[0m\n\u001b[0m",
      "\u001b[0;31mAttributeError\u001b[0m: 'DataFrame' object has no attribute 'cod_modelo_color_x'"
     ]
    }
   ],
   "source": [
    "compatibilities = dict(zip(merged_df.cod_modelo_color_x, merged_df.cod_modelo_color_y))\n",
    "\n",
    "with open(path + 'compatibilities.pickle', 'wb') as handle:\n",
    "    pickle.dump(compatibilities, handle, protocol=pickle.HIGHEST_PROTOCOL)"
   ]
  }
 ],
 "metadata": {
  "kernelspec": {
   "display_name": "Python 3",
   "language": "python",
   "name": "python3"
  },
  "language_info": {
   "codemirror_mode": {
    "name": "ipython",
    "version": 3
   },
   "file_extension": ".py",
   "mimetype": "text/x-python",
   "name": "python",
   "nbconvert_exporter": "python",
   "pygments_lexer": "ipython3",
   "version": "3.9.7"
  }
 },
 "nbformat": 4,
 "nbformat_minor": 2
}
