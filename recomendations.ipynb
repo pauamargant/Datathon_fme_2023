{
 "cells": [
  {
   "cell_type": "code",
   "execution_count": 148,
   "metadata": {},
   "outputs": [
    {
     "name": "stderr",
     "output_type": "stream",
     "text": [
      "INFO:root:VERSION 2.3.0\n"
     ]
    }
   ],
   "source": [
    "import random\n",
    "\n",
    "import torch\n",
    "import torch.nn as nn\n",
    "import torch.nn.functional as F\n",
    "\n",
    "import numpy as np\n",
    "import matplotlib.pyplot as plt\n",
    "\n",
    "from typing import Tuple\n",
    "from torchvision import datasets, transforms\n",
    "from torchvision.utils import make_grid\n",
    "import pandas as pd\n",
    "\n",
    "%matplotlib inline\n",
    "import logging\n",
    "\n",
    "import matplotlib.pyplot as plt\n",
    "import numpy as np\n",
    "import torch\n",
    "import torch.nn as nn\n",
    "import torchvision\n",
    "from cycler import cycler\n",
    "from PIL import Image\n",
    "from torchvision import datasets, transforms\n",
    "\n",
    "import pytorch_metric_learning\n",
    "import pytorch_metric_learning.utils.logging_presets as logging_presets\n",
    "from pytorch_metric_learning import losses, miners, samplers, testers, trainers\n",
    "from pytorch_metric_learning.utils.accuracy_calculator import AccuracyCalculator\n",
    "\n",
    "logging.getLogger().setLevel(logging.INFO)\n",
    "logging.info(\"VERSION %s\" % pytorch_metric_learning.__version__)"
   ]
  },
  {
   "cell_type": "code",
   "execution_count": 149,
   "metadata": {},
   "outputs": [],
   "source": [
    "margin_param=0.2"
   ]
  },
  {
   "cell_type": "code",
   "execution_count": 158,
   "metadata": {},
   "outputs": [
    {
     "name": "stdout",
     "output_type": "stream",
     "text": [
      "Index(['des_agrup_color_eng_BLUE', 'des_agrup_color_eng_BROWN',\n",
      "       'des_agrup_color_eng_GREEN', 'des_agrup_color_eng_GREY',\n",
      "       'des_agrup_color_eng_ORANGE', 'des_agrup_color_eng_PINK',\n",
      "       'des_agrup_color_eng_PURPLE', 'des_agrup_color_eng_RED',\n",
      "       'des_agrup_color_eng_WHITE', 'des_agrup_color_eng_YELLOW',\n",
      "       ...\n",
      "       'des_product_type_Tie', 'des_product_type_Top',\n",
      "       'des_product_type_Totes bag', 'des_product_type_Trainers',\n",
      "       'des_product_type_Trenchcoat', 'des_product_type_Trousers',\n",
      "       'des_product_type_Turban', 'des_product_type_Umbrella',\n",
      "       'des_product_type_Vest', 'des_product_type_Wallet'],\n",
      "      dtype='object', length=144)\n"
     ]
    }
   ],
   "source": [
    "# load x and y csv\n",
    "x = pd.read_csv('dataset/x.csv')\n",
    "\n",
    "# drop cod_modelo_color and des_filename\n",
    "x = x.drop(columns=['cod_modelo_color', 'des_filename'])\n",
    "y = pd.read_csv('dataset/y.csv')\n",
    "\n",
    "print(x.columns)"
   ]
  },
  {
   "cell_type": "code",
   "execution_count": 151,
   "metadata": {},
   "outputs": [],
   "source": [
    "import torch\n",
    "import torch.nn as nn\n",
    "import torch.optim as optim\n",
    "from torch.utils.data import Dataset, DataLoader\n",
    "\n",
    "class MyNN(nn.Module):\n",
    "    def __init__(self, input_size, hidden_size1, hidden_size2, output_size):\n",
    "        super().__init__()\n",
    "        self.fc1 = nn.Linear(input_size, hidden_size1)\n",
    "        self.relu1 = nn.ReLU()\n",
    "        self.fc2 = nn.Linear(hidden_size1, hidden_size2)\n",
    "        self.relu2 = nn.ReLU()\n",
    "        self.fc3 = nn.Linear(hidden_size2, output_size)\n",
    "        self.relu3 = nn.ReLU()\n",
    "\n",
    "    def forward(self, x):\n",
    "        x = self.fc1(x)\n",
    "        x = self.relu1(x)\n",
    "        x = self.fc2(x)\n",
    "        x = self.relu2(x)\n",
    "        x = self.fc3(x)\n",
    "        x = self.relu3(x)\n",
    "        return x\n",
    "\n",
    "# Assuming you have a 159-dimensional input and want an output size of 20\n",
    "input_size = 111\n",
    "hidden_size1 = 64\n",
    "hidden_size2 = 32\n",
    "output_size = 20\n",
    "\n",
    "# Create an instance of the model\n",
    "model = MyNN(input_size, hidden_size1, hidden_size2, output_size)\n",
    "\n"
   ]
  },
  {
   "cell_type": "code",
   "execution_count": 152,
   "metadata": {},
   "outputs": [],
   "source": [
    "class ItemDataset(Dataset):\n",
    "    def __init__(self, x, y):\n",
    "        self.x = torch.tensor(x.values,dtype=torch.float32,requires_grad=True)\n",
    "        self.y = torch.tensor(y.values).flatten()\n",
    "    def __len__(self):\n",
    "        return len(self.x)\n",
    "    def __getitem__(self, idx):\n",
    "        return self.x[idx], self.y[idx]\n",
    "\n",
    "train_dataset = ItemDataset(x, y)"
   ]
  },
  {
   "cell_type": "code",
   "execution_count": 153,
   "metadata": {},
   "outputs": [],
   "source": [
    "optimizer = torch.optim.Adam(model.parameters(), lr=0.00001, weight_decay=0.0001)\n",
    "loss = losses.TripletMarginLoss(margin=margin_param)\n",
    "miner= miners.TripletMarginMiner(margin=margin_param, type_of_triplets=\"hard\")\n",
    "sampler = samplers.MPerClassSampler(y, m=4, length_before_new_iter=len(train_dataset))\n",
    "\n",
    "batch_size = 32\n",
    "num_epochs = 10\n",
    "dataloader = DataLoader(train_dataset, batch_size=batch_size, sampler=sampler)\n",
    "for i, (data,label) in enumerate(dataloader):\n",
    "    optimizer.zero_grad()\n",
    "    embeddings = model(data)\n",
    "    hard_pairs = miner(embeddings, label)\n",
    "    loss_value = loss(embeddings, label, hard_pairs)\n",
    "    loss_value.backward()\n",
    "    optimizer.step()"
   ]
  },
  {
   "cell_type": "code",
   "execution_count": 8,
   "metadata": {},
   "outputs": [
    {
     "data": {
      "text/plain": [
       "MyNN(\n",
       "  (fc1): Linear(in_features=111, out_features=64, bias=True)\n",
       "  (relu1): ReLU()\n",
       "  (fc2): Linear(in_features=64, out_features=32, bias=True)\n",
       "  (relu2): ReLU()\n",
       "  (fc3): Linear(in_features=32, out_features=20, bias=True)\n",
       "  (relu3): ReLU()\n",
       ")"
      ]
     },
     "execution_count": 8,
     "metadata": {},
     "output_type": "execute_result"
    }
   ],
   "source": [
    "model.eval()"
   ]
  },
  {
   "cell_type": "code",
   "execution_count": 9,
   "metadata": {},
   "outputs": [
    {
     "data": {
      "text/plain": [
       "0       53070992-01\n",
       "1       51070902-02\n",
       "2       53010605-09\n",
       "3       53000578-01\n",
       "4       53020724-14\n",
       "           ...     \n",
       "8736    57039043-96\n",
       "8737    57039046-94\n",
       "8738    57099074-02\n",
       "8739    57039051-02\n",
       "8740    57009044-99\n",
       "Name: cod_modelo_color, Length: 8741, dtype: object"
      ]
     },
     "execution_count": 9,
     "metadata": {},
     "output_type": "execute_result"
    }
   ],
   "source": [
    "x_id = pd.read_csv('x.csv')\n",
    "x_id[\"cod_modelo_color\"]"
   ]
  },
  {
   "cell_type": "code",
   "execution_count": 15,
   "metadata": {},
   "outputs": [],
   "source": [
    "# calculate embeddings for all items\n",
    "embeddings = model(torch.tensor(x.values,dtype=torch.float32,requires_grad=True))\n",
    "# get cosine similarity between all items and item 0\n",
    "cos = nn.CosineSimilarity(dim=1, eps=1e-6)\n",
    "cos_sim = cos(embeddings, embeddings[0].unsqueeze(0))"
   ]
  },
  {
   "cell_type": "code",
   "execution_count": 16,
   "metadata": {},
   "outputs": [
    {
     "data": {
      "text/plain": [
       "tensor(0.9932, grad_fn=<SelectBackward0>)"
      ]
     },
     "execution_count": 16,
     "metadata": {},
     "output_type": "execute_result"
    }
   ],
   "source": [
    "# get argmax of cos_sim \n",
    "argmax = torch.argmax(cos_sim[1:])\n",
    "argmax\n",
    "\n",
    "cos_sim[argmax]"
   ]
  },
  {
   "cell_type": "code",
   "execution_count": 17,
   "metadata": {},
   "outputs": [
    {
     "data": {
      "text/plain": [
       "65"
      ]
     },
     "execution_count": 17,
     "metadata": {},
     "output_type": "execute_result"
    }
   ],
   "source": [
    "argmax.item()"
   ]
  },
  {
   "cell_type": "code",
   "execution_count": 18,
   "metadata": {},
   "outputs": [
    {
     "data": {
      "text/plain": [
       "cod_modelo_color                                      51045733-99\n",
       "des_filename                 datathon/images/2019_51045733_99.jpg\n",
       "des_agrup_color_eng_BLUE                                    False\n",
       "des_agrup_color_eng_BROWN                                   False\n",
       "des_agrup_color_eng_GREEN                                   False\n",
       "                                             ...                 \n",
       "des_product_type_Trousers                                   False\n",
       "des_product_type_Turban                                     False\n",
       "des_product_type_Umbrella                                   False\n",
       "des_product_type_Vest                                       False\n",
       "des_product_type_Wallet                                     False\n",
       "Name: 65, Length: 113, dtype: object"
      ]
     },
     "execution_count": 18,
     "metadata": {},
     "output_type": "execute_result"
    }
   ],
   "source": [
    "x_id.iloc[argmax.item()]"
   ]
  },
  {
   "cell_type": "code",
   "execution_count": 19,
   "metadata": {},
   "outputs": [],
   "source": [
    "# dump model\n",
    "torch.save(model.state_dict(), 'model.pt')"
   ]
  },
  {
   "cell_type": "code",
   "execution_count": 144,
   "metadata": {},
   "outputs": [],
   "source": [
    "from pytorch_metric_learning.distances import LpDistance\n",
    "def get_embedding(model, x):\n",
    "    return model(torch.tensor(x.values,dtype=torch.float32,requires_grad=True))\n",
    "\n",
    "def get_recommendation(model, x, item_id,k=10,embeddings=None):\n",
    "    if embeddings is None:  \n",
    "        embeddings = get_embedding(model, x)\n",
    "    # get lp distance between x and all items\n",
    "    Lp = LpDistance(normalize_embeddings=False)\n",
    "    Lp_sim = Lp(embeddings, embeddings[item_id].unsqueeze(0))\n",
    "    # sort and get top 100 together with idx\n",
    "    idx = torch.argsort(Lp_sim.squeeze())\n",
    "\n",
    "    topk=list(zip(idx.tolist(), Lp_sim[idx].tolist()))\n",
    "    # return biggest k\n",
    "    topk.sort(key=lambda x: x[1],reverse=True)\n",
    "    return topk[:k]"
   ]
  },
  {
   "cell_type": "code",
   "execution_count": 145,
   "metadata": {},
   "outputs": [],
   "source": [
    "#im\n",
    "\n",
    "id = x_id.iloc[0][\"cod_modelo_color\"]\n",
    "# get row_number of id\n",
    "row_number = x_id[x_id[\"cod_modelo_color\"] == id].index[0]\n",
    "\n",
    "top100 = get_recommendation(model, x, row_number)"
   ]
  },
  {
   "cell_type": "code",
   "execution_count": 146,
   "metadata": {},
   "outputs": [
    {
     "data": {
      "text/plain": [
       "[(5030, [0.08492445200681686]),\n",
       " (961, [0.08492445200681686]),\n",
       " (4813, [0.08298936486244202]),\n",
       " (5787, [0.0810849666595459]),\n",
       " (4116, [0.07803778350353241]),\n",
       " (8436, [0.07803778350353241]),\n",
       " (5062, [0.07667584717273712]),\n",
       " (5649, [0.07667584717273712]),\n",
       " (5058, [0.07667584717273712]),\n",
       " (5057, [0.07667584717273712])]"
      ]
     },
     "execution_count": 146,
     "metadata": {},
     "output_type": "execute_result"
    }
   ],
   "source": [
    "top100"
   ]
  },
  {
   "cell_type": "code",
   "execution_count": null,
   "metadata": {},
   "outputs": [
    {
     "ename": "NameError",
     "evalue": "name 'df' is not defined",
     "output_type": "error",
     "traceback": [
      "\u001b[1;31m---------------------------------------------------------------------------\u001b[0m",
      "\u001b[1;31mNameError\u001b[0m                                 Traceback (most recent call last)",
      "\u001b[1;32mc:\\Users\\pamar\\Desktop\\Q5\\Datathon_fme_2023\\recomendations.ipynb Cell 17\u001b[0m line \u001b[0;36m1\n\u001b[1;32m----> <a href='vscode-notebook-cell:/c%3A/Users/pamar/Desktop/Q5/Datathon_fme_2023/recomendations.ipynb#X23sZmlsZQ%3D%3D?line=0'>1</a>\u001b[0m df\n",
      "\u001b[1;31mNameError\u001b[0m: name 'df' is not defined"
     ]
    }
   ],
   "source": []
  }
 ],
 "metadata": {
  "kernelspec": {
   "display_name": "AA2",
   "language": "python",
   "name": "python3"
  },
  "language_info": {
   "codemirror_mode": {
    "name": "ipython",
    "version": 3
   },
   "file_extension": ".py",
   "mimetype": "text/x-python",
   "name": "python",
   "nbconvert_exporter": "python",
   "pygments_lexer": "ipython3",
   "version": "3.10.13"
  }
 },
 "nbformat": 4,
 "nbformat_minor": 2
}
