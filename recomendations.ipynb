{
 "cells": [
  {
   "cell_type": "code",
   "execution_count": 1,
   "metadata": {},
   "outputs": [
    {
     "ename": "ModuleNotFoundError",
     "evalue": "No module named 'pytorch_metric_learning'",
     "output_type": "error",
     "traceback": [
      "\u001b[1;31m---------------------------------------------------------------------------\u001b[0m",
      "\u001b[1;31mModuleNotFoundError\u001b[0m                       Traceback (most recent call last)",
      "\u001b[1;32mc:\\Users\\Carlos Arbonés\\Desktop\\repositories\\Datathon_fme_2023\\recomendations.ipynb Cell 1\u001b[0m line \u001b[0;36m2\n\u001b[0;32m     <a href='vscode-notebook-cell:/c%3A/Users/Carlos%20Arbon%C3%A9s/Desktop/repositories/Datathon_fme_2023/recomendations.ipynb#W2sZmlsZQ%3D%3D?line=23'>24</a>\u001b[0m \u001b[39mfrom\u001b[39;00m \u001b[39mPIL\u001b[39;00m \u001b[39mimport\u001b[39;00m Image\n\u001b[0;32m     <a href='vscode-notebook-cell:/c%3A/Users/Carlos%20Arbon%C3%A9s/Desktop/repositories/Datathon_fme_2023/recomendations.ipynb#W2sZmlsZQ%3D%3D?line=24'>25</a>\u001b[0m \u001b[39mfrom\u001b[39;00m \u001b[39mtorchvision\u001b[39;00m \u001b[39mimport\u001b[39;00m datasets, transforms\n\u001b[1;32m---> <a href='vscode-notebook-cell:/c%3A/Users/Carlos%20Arbon%C3%A9s/Desktop/repositories/Datathon_fme_2023/recomendations.ipynb#W2sZmlsZQ%3D%3D?line=26'>27</a>\u001b[0m \u001b[39mimport\u001b[39;00m \u001b[39mpytorch_metric_learning\u001b[39;00m\n\u001b[0;32m     <a href='vscode-notebook-cell:/c%3A/Users/Carlos%20Arbon%C3%A9s/Desktop/repositories/Datathon_fme_2023/recomendations.ipynb#W2sZmlsZQ%3D%3D?line=27'>28</a>\u001b[0m \u001b[39mimport\u001b[39;00m \u001b[39mpytorch_metric_learning\u001b[39;00m\u001b[39m.\u001b[39;00m\u001b[39mutils\u001b[39;00m\u001b[39m.\u001b[39;00m\u001b[39mlogging_presets\u001b[39;00m \u001b[39mas\u001b[39;00m \u001b[39mlogging_presets\u001b[39;00m\n\u001b[0;32m     <a href='vscode-notebook-cell:/c%3A/Users/Carlos%20Arbon%C3%A9s/Desktop/repositories/Datathon_fme_2023/recomendations.ipynb#W2sZmlsZQ%3D%3D?line=28'>29</a>\u001b[0m \u001b[39mfrom\u001b[39;00m \u001b[39mpytorch_metric_learning\u001b[39;00m \u001b[39mimport\u001b[39;00m losses, miners, samplers, testers, trainers\n",
      "\u001b[1;31mModuleNotFoundError\u001b[0m: No module named 'pytorch_metric_learning'"
     ]
    }
   ],
   "source": [
    "import random\n",
    "\n",
    "import torch\n",
    "import torch.nn as nn\n",
    "import torch.nn.functional as F\n",
    "\n",
    "import numpy as np\n",
    "import matplotlib.pyplot as plt\n",
    "\n",
    "from typing import Tuple\n",
    "from torchvision import datasets, transforms\n",
    "from torchvision.utils import make_grid\n",
    "import pandas as pd\n",
    "\n",
    "%matplotlib inline\n",
    "import logging\n",
    "\n",
    "import matplotlib.pyplot as plt\n",
    "import numpy as np\n",
    "import torch\n",
    "import torch.nn as nn\n",
    "import torchvision\n",
    "from cycler import cycler\n",
    "from PIL import Image\n",
    "from torchvision import datasets, transforms\n",
    "\n",
    "import pytorch_metric_learning\n",
    "import pytorch_metric_learning.utils.logging_presets as logging_presets\n",
    "from pytorch_metric_learning import losses, miners, samplers, testers, trainers\n",
    "from pytorch_metric_learning.utils.accuracy_calculator import AccuracyCalculator\n",
    "\n",
    "logging.getLogger().setLevel(logging.INFO)\n",
    "logging.info(\"VERSION %s\" % pytorch_metric_learning.__version__)"
   ]
  },
  {
   "cell_type": "code",
   "execution_count": 145,
   "metadata": {},
   "outputs": [],
   "source": [
    "margin_param=0.2"
   ]
  },
  {
   "cell_type": "code",
   "execution_count": 146,
   "metadata": {},
   "outputs": [
    {
     "data": {
      "text/html": [
       "<div>\n",
       "<style scoped>\n",
       "    .dataframe tbody tr th:only-of-type {\n",
       "        vertical-align: middle;\n",
       "    }\n",
       "\n",
       "    .dataframe tbody tr th {\n",
       "        vertical-align: top;\n",
       "    }\n",
       "\n",
       "    .dataframe thead th {\n",
       "        text-align: right;\n",
       "    }\n",
       "</style>\n",
       "<table border=\"1\" class=\"dataframe\">\n",
       "  <thead>\n",
       "    <tr style=\"text-align: right;\">\n",
       "      <th></th>\n",
       "      <th>des_age_Adult</th>\n",
       "      <th>des_agrup_color_eng_BLUE</th>\n",
       "      <th>des_agrup_color_eng_BROWN</th>\n",
       "      <th>des_agrup_color_eng_GREEN</th>\n",
       "      <th>des_agrup_color_eng_GREY</th>\n",
       "      <th>des_agrup_color_eng_ORANGE</th>\n",
       "      <th>des_agrup_color_eng_PINK</th>\n",
       "      <th>des_agrup_color_eng_PURPLE</th>\n",
       "      <th>des_agrup_color_eng_RED</th>\n",
       "      <th>des_agrup_color_eng_WHITE</th>\n",
       "      <th>...</th>\n",
       "      <th>des_product_type_Top</th>\n",
       "      <th>des_product_type_Totes bag</th>\n",
       "      <th>des_product_type_Trainers</th>\n",
       "      <th>des_product_type_Trenchcoat</th>\n",
       "      <th>des_product_type_Trousers</th>\n",
       "      <th>des_product_type_Turban</th>\n",
       "      <th>des_product_type_Umbrella</th>\n",
       "      <th>des_product_type_Vest</th>\n",
       "      <th>des_product_type_Wallet</th>\n",
       "      <th>des_sex_Female</th>\n",
       "    </tr>\n",
       "  </thead>\n",
       "  <tbody>\n",
       "    <tr>\n",
       "      <th>0</th>\n",
       "      <td>True</td>\n",
       "      <td>False</td>\n",
       "      <td>False</td>\n",
       "      <td>False</td>\n",
       "      <td>False</td>\n",
       "      <td>False</td>\n",
       "      <td>False</td>\n",
       "      <td>False</td>\n",
       "      <td>False</td>\n",
       "      <td>True</td>\n",
       "      <td>...</td>\n",
       "      <td>True</td>\n",
       "      <td>False</td>\n",
       "      <td>False</td>\n",
       "      <td>False</td>\n",
       "      <td>False</td>\n",
       "      <td>False</td>\n",
       "      <td>False</td>\n",
       "      <td>False</td>\n",
       "      <td>False</td>\n",
       "      <td>True</td>\n",
       "    </tr>\n",
       "    <tr>\n",
       "      <th>1</th>\n",
       "      <td>True</td>\n",
       "      <td>False</td>\n",
       "      <td>False</td>\n",
       "      <td>False</td>\n",
       "      <td>False</td>\n",
       "      <td>False</td>\n",
       "      <td>False</td>\n",
       "      <td>False</td>\n",
       "      <td>False</td>\n",
       "      <td>True</td>\n",
       "      <td>...</td>\n",
       "      <td>False</td>\n",
       "      <td>False</td>\n",
       "      <td>False</td>\n",
       "      <td>False</td>\n",
       "      <td>True</td>\n",
       "      <td>False</td>\n",
       "      <td>False</td>\n",
       "      <td>False</td>\n",
       "      <td>False</td>\n",
       "      <td>True</td>\n",
       "    </tr>\n",
       "    <tr>\n",
       "      <th>2</th>\n",
       "      <td>True</td>\n",
       "      <td>False</td>\n",
       "      <td>False</td>\n",
       "      <td>False</td>\n",
       "      <td>False</td>\n",
       "      <td>False</td>\n",
       "      <td>False</td>\n",
       "      <td>False</td>\n",
       "      <td>False</td>\n",
       "      <td>True</td>\n",
       "      <td>...</td>\n",
       "      <td>False</td>\n",
       "      <td>False</td>\n",
       "      <td>False</td>\n",
       "      <td>False</td>\n",
       "      <td>False</td>\n",
       "      <td>False</td>\n",
       "      <td>False</td>\n",
       "      <td>False</td>\n",
       "      <td>False</td>\n",
       "      <td>True</td>\n",
       "    </tr>\n",
       "    <tr>\n",
       "      <th>3</th>\n",
       "      <td>True</td>\n",
       "      <td>False</td>\n",
       "      <td>False</td>\n",
       "      <td>False</td>\n",
       "      <td>False</td>\n",
       "      <td>False</td>\n",
       "      <td>False</td>\n",
       "      <td>False</td>\n",
       "      <td>False</td>\n",
       "      <td>True</td>\n",
       "      <td>...</td>\n",
       "      <td>False</td>\n",
       "      <td>False</td>\n",
       "      <td>False</td>\n",
       "      <td>False</td>\n",
       "      <td>False</td>\n",
       "      <td>False</td>\n",
       "      <td>False</td>\n",
       "      <td>False</td>\n",
       "      <td>False</td>\n",
       "      <td>True</td>\n",
       "    </tr>\n",
       "    <tr>\n",
       "      <th>4</th>\n",
       "      <td>True</td>\n",
       "      <td>False</td>\n",
       "      <td>False</td>\n",
       "      <td>False</td>\n",
       "      <td>False</td>\n",
       "      <td>False</td>\n",
       "      <td>False</td>\n",
       "      <td>False</td>\n",
       "      <td>False</td>\n",
       "      <td>False</td>\n",
       "      <td>...</td>\n",
       "      <td>True</td>\n",
       "      <td>False</td>\n",
       "      <td>False</td>\n",
       "      <td>False</td>\n",
       "      <td>False</td>\n",
       "      <td>False</td>\n",
       "      <td>False</td>\n",
       "      <td>False</td>\n",
       "      <td>False</td>\n",
       "      <td>True</td>\n",
       "    </tr>\n",
       "  </tbody>\n",
       "</table>\n",
       "<p>5 rows × 113 columns</p>\n",
       "</div>"
      ],
      "text/plain": [
       "   des_age_Adult  des_agrup_color_eng_BLUE  des_agrup_color_eng_BROWN  \\\n",
       "0           True                     False                      False   \n",
       "1           True                     False                      False   \n",
       "2           True                     False                      False   \n",
       "3           True                     False                      False   \n",
       "4           True                     False                      False   \n",
       "\n",
       "   des_agrup_color_eng_GREEN  des_agrup_color_eng_GREY  \\\n",
       "0                      False                     False   \n",
       "1                      False                     False   \n",
       "2                      False                     False   \n",
       "3                      False                     False   \n",
       "4                      False                     False   \n",
       "\n",
       "   des_agrup_color_eng_ORANGE  des_agrup_color_eng_PINK  \\\n",
       "0                       False                     False   \n",
       "1                       False                     False   \n",
       "2                       False                     False   \n",
       "3                       False                     False   \n",
       "4                       False                     False   \n",
       "\n",
       "   des_agrup_color_eng_PURPLE  des_agrup_color_eng_RED  \\\n",
       "0                       False                    False   \n",
       "1                       False                    False   \n",
       "2                       False                    False   \n",
       "3                       False                    False   \n",
       "4                       False                    False   \n",
       "\n",
       "   des_agrup_color_eng_WHITE  ...  des_product_type_Top  \\\n",
       "0                       True  ...                  True   \n",
       "1                       True  ...                 False   \n",
       "2                       True  ...                 False   \n",
       "3                       True  ...                 False   \n",
       "4                      False  ...                  True   \n",
       "\n",
       "   des_product_type_Totes bag  des_product_type_Trainers  \\\n",
       "0                       False                      False   \n",
       "1                       False                      False   \n",
       "2                       False                      False   \n",
       "3                       False                      False   \n",
       "4                       False                      False   \n",
       "\n",
       "   des_product_type_Trenchcoat  des_product_type_Trousers  \\\n",
       "0                        False                      False   \n",
       "1                        False                       True   \n",
       "2                        False                      False   \n",
       "3                        False                      False   \n",
       "4                        False                      False   \n",
       "\n",
       "   des_product_type_Turban  des_product_type_Umbrella  des_product_type_Vest  \\\n",
       "0                    False                      False                  False   \n",
       "1                    False                      False                  False   \n",
       "2                    False                      False                  False   \n",
       "3                    False                      False                  False   \n",
       "4                    False                      False                  False   \n",
       "\n",
       "   des_product_type_Wallet  des_sex_Female  \n",
       "0                    False            True  \n",
       "1                    False            True  \n",
       "2                    False            True  \n",
       "3                    False            True  \n",
       "4                    False            True  \n",
       "\n",
       "[5 rows x 113 columns]"
      ]
     },
     "execution_count": 146,
     "metadata": {},
     "output_type": "execute_result"
    }
   ],
   "source": [
    "# load x and y csv\n",
    "x = pd.read_csv('x.csv')\n",
    "# drop cod_modelo_color and des_filename\n",
    "x = x.drop(columns=['cod_modelo_color', 'des_filename'])\n",
    "y = pd.read_csv('y.csv')\n",
    "x.head()"
   ]
  },
  {
   "cell_type": "code",
   "execution_count": 150,
   "metadata": {},
   "outputs": [],
   "source": [
    "import torch\n",
    "import torch.nn as nn\n",
    "import torch.optim as optim\n",
    "from torch.utils.data import Dataset, DataLoader\n",
    "\n",
    "class MyNN(nn.Module):\n",
    "    def __init__(self, input_size, hidden_size1, hidden_size2, output_size):\n",
    "        super().__init__()\n",
    "        self.fc1 = nn.Linear(input_size, hidden_size1)\n",
    "        self.relu1 = nn.ReLU()\n",
    "        self.fc2 = nn.Linear(hidden_size1, hidden_size2)\n",
    "        self.relu2 = nn.ReLU()\n",
    "        self.fc3 = nn.Linear(hidden_size2, output_size)\n",
    "        self.relu3 = nn.ReLU()\n",
    "\n",
    "    def forward(self, x):\n",
    "        x = self.fc1(x)\n",
    "        x = self.relu1(x)\n",
    "        x = self.fc2(x)\n",
    "        x = self.relu2(x)\n",
    "        x = self.fc3(x)\n",
    "        x = self.relu3(x)\n",
    "        return x\n",
    "\n",
    "# Assuming you have a 159-dimensional input and want an output size of 20\n",
    "input_size = 113\n",
    "hidden_size1 = 64\n",
    "hidden_size2 = 32\n",
    "output_size = 20\n",
    "\n",
    "# Create an instance of the model\n",
    "model = MyNN(input_size, hidden_size1, hidden_size2, output_size)\n",
    "\n"
   ]
  },
  {
   "cell_type": "code",
   "execution_count": 151,
   "metadata": {},
   "outputs": [],
   "source": [
    "class ItemDataset(Dataset):\n",
    "    def __init__(self, x, y):\n",
    "        self.x = torch.tensor(x.values,dtype=torch.float32,requires_grad=True)\n",
    "        self.y = torch.tensor(y.values).flatten()\n",
    "    def __len__(self):\n",
    "        return len(self.x)\n",
    "    def __getitem__(self, idx):\n",
    "        return self.x[idx], self.y[idx]\n",
    "\n",
    "train_dataset = ItemDataset(x, y)"
   ]
  },
  {
   "cell_type": "code",
   "execution_count": 152,
   "metadata": {},
   "outputs": [],
   "source": [
    "optimizer = torch.optim.Adam(model.parameters(), lr=0.00001, weight_decay=0.0001)\n",
    "loss = losses.TripletMarginLoss(margin=margin_param)\n",
    "miner= miners.TripletMarginMiner(margin=margin_param, type_of_triplets=\"hard\")\n",
    "sampler = samplers.MPerClassSampler(y, m=4, length_before_new_iter=len(train_dataset))\n",
    "\n",
    "batch_size = 32\n",
    "num_epochs = 10\n",
    "dataloader = DataLoader(train_dataset, batch_size=batch_size, sampler=sampler)\n",
    "for i, (data,label) in enumerate(dataloader):\n",
    "    optimizer.zero_grad()\n",
    "    embeddings = model(data)\n",
    "    hard_pairs = miner(embeddings, label)\n",
    "    loss_value = loss(embeddings, label, hard_pairs)\n",
    "    loss_value.backward()\n",
    "    optimizer.step()"
   ]
  },
  {
   "cell_type": "code",
   "execution_count": 153,
   "metadata": {},
   "outputs": [
    {
     "data": {
      "text/plain": [
       "MyNN(\n",
       "  (fc1): Linear(in_features=113, out_features=64, bias=True)\n",
       "  (relu1): ReLU()\n",
       "  (fc2): Linear(in_features=64, out_features=32, bias=True)\n",
       "  (relu2): ReLU()\n",
       "  (fc3): Linear(in_features=32, out_features=20, bias=True)\n",
       "  (relu3): ReLU()\n",
       ")"
      ]
     },
     "execution_count": 153,
     "metadata": {},
     "output_type": "execute_result"
    }
   ],
   "source": [
    "model.eval()"
   ]
  },
  {
   "cell_type": "code",
   "execution_count": 154,
   "metadata": {},
   "outputs": [
    {
     "data": {
      "text/plain": [
       "0       53070992-01\n",
       "1       51070902-02\n",
       "2       53010605-09\n",
       "3       53000578-01\n",
       "4       53020724-14\n",
       "           ...     \n",
       "8736    57039043-96\n",
       "8737    57039046-94\n",
       "8738    57099074-02\n",
       "8739    57039051-02\n",
       "8740    57009044-99\n",
       "Name: cod_modelo_color, Length: 8741, dtype: object"
      ]
     },
     "execution_count": 154,
     "metadata": {},
     "output_type": "execute_result"
    }
   ],
   "source": [
    "x_id = pd.read_csv('x.csv')\n",
    "x_id[\"cod_modelo_color\"]"
   ]
  },
  {
   "cell_type": "code",
   "execution_count": 155,
   "metadata": {},
   "outputs": [],
   "source": [
    "# calculate embeddings for all items\n",
    "embeddings = model(torch.tensor(x.values,dtype=torch.float32,requires_grad=True))\n",
    "# get cosine similarity between all items and item 0\n",
    "cos = nn.CosineSimilarity(dim=1, eps=1e-6)\n",
    "cos_sim = cos(embeddings, embeddings[0].unsqueeze(0))"
   ]
  },
  {
   "cell_type": "code",
   "execution_count": 156,
   "metadata": {},
   "outputs": [
    {
     "data": {
      "text/plain": [
       "tensor(0.9926, grad_fn=<SelectBackward0>)"
      ]
     },
     "execution_count": 156,
     "metadata": {},
     "output_type": "execute_result"
    }
   ],
   "source": [
    "# get argmax of cos_sim \n",
    "argmax = torch.argmax(cos_sim[1:])\n",
    "argmax\n",
    "\n",
    "cos_sim[argmax]"
   ]
  },
  {
   "cell_type": "code",
   "execution_count": 157,
   "metadata": {},
   "outputs": [
    {
     "data": {
      "text/plain": [
       "65"
      ]
     },
     "execution_count": 157,
     "metadata": {},
     "output_type": "execute_result"
    }
   ],
   "source": [
    "argmax.item()"
   ]
  },
  {
   "cell_type": "code",
   "execution_count": null,
   "metadata": {},
   "outputs": [
    {
     "data": {
      "text/plain": [
       "cod_modelo_color                                     57079082-TN\n",
       "des_filename                datathon/images/2023_57079082_TN.jpg\n",
       "des_age_Adult                                               True\n",
       "des_age_Kids                                               False\n",
       "des_agrup_color_eng_BLUE                                   False\n",
       "                                            ...                 \n",
       "des_product_type_Vest                                      False\n",
       "des_product_type_Wallet                                    False\n",
       "des_sex_Female                                              True\n",
       "des_sex_Male                                               False\n",
       "des_sex_Unisex                                             False\n",
       "Name: 3484, Length: 124, dtype: object"
      ]
     },
     "execution_count": 136,
     "metadata": {},
     "output_type": "execute_result"
    }
   ],
   "source": [
    "x_id.iloc[argmax.item()]"
   ]
  },
  {
   "cell_type": "code",
   "execution_count": null,
   "metadata": {},
   "outputs": [],
   "source": [
    "# dump model\n",
    "torch.save(model.state_dict(), 'model.pt')"
   ]
  },
  {
   "cell_type": "code",
   "execution_count": 158,
   "metadata": {},
   "outputs": [],
   "source": [
    "def get_embedding(model, x):\n",
    "    return model(torch.tensor(x.values,dtype=torch.float32,requires_grad=True))\n",
    "\n",
    "def get_recommendation(model, x, item_id,embeddings=None):\n",
    "    if embeddings is None:  \n",
    "        embeddings = get_embedding(model, x)\n",
    "    \n",
    "    cos = nn.CosineSimilarity(dim=1, eps=1e-6)\n",
    "    cos_sim = cos(embeddings, embeddings[item_id].unsqueeze(0))\n",
    "    # return top 100\n",
    "    top100 = torch.topk(cos_sim, 100)\n",
    "    return top100"
   ]
  },
  {
   "cell_type": "code",
   "execution_count": 159,
   "metadata": {},
   "outputs": [],
   "source": [
    "\n",
    "\n",
    "id = x_id.iloc[0][\"cod_modelo_color\"]\n",
    "# get row_number of id\n",
    "row_number = x_id[x_id[\"cod_modelo_color\"] == id].index[0]\n",
    "\n",
    "top100 = get_recommendation(model, x, row_number)"
   ]
  },
  {
   "cell_type": "code",
   "execution_count": 160,
   "metadata": {},
   "outputs": [
    {
     "data": {
      "text/plain": [
       "torch.return_types.topk(\n",
       "values=tensor([1.0000, 1.0000, 1.0000, 1.0000, 1.0000, 1.0000, 1.0000, 1.0000, 1.0000,\n",
       "        1.0000, 1.0000, 1.0000, 1.0000, 1.0000, 1.0000, 1.0000, 1.0000, 1.0000,\n",
       "        1.0000, 1.0000, 1.0000, 1.0000, 1.0000, 1.0000, 1.0000, 1.0000, 1.0000,\n",
       "        1.0000, 1.0000, 1.0000, 1.0000, 1.0000, 1.0000, 1.0000, 1.0000, 1.0000,\n",
       "        1.0000, 1.0000, 1.0000, 1.0000, 1.0000, 0.9990, 0.9990, 0.9990, 0.9990,\n",
       "        0.9990, 0.9990, 0.9990, 0.9990, 0.9990, 0.9990, 0.9990, 0.9990, 0.9990,\n",
       "        0.9990, 0.9990, 0.9990, 0.9990, 0.9990, 0.9990, 0.9990, 0.9990, 0.9990,\n",
       "        0.9990, 0.9990, 0.9990, 0.9990, 0.9990, 0.9990, 0.9990, 0.9990, 0.9990,\n",
       "        0.9990, 0.9990, 0.9990, 0.9990, 0.9990, 0.9990, 0.9990, 0.9990, 0.9990,\n",
       "        0.9989, 0.9989, 0.9989, 0.9989, 0.9989, 0.9989, 0.9987, 0.9987, 0.9978,\n",
       "        0.9978, 0.9977, 0.9977, 0.9977, 0.9977, 0.9977, 0.9977, 0.9977, 0.9977,\n",
       "        0.9977], grad_fn=<TopkBackward0>),\n",
       "indices=tensor([1014, 4276, 2738, 4581, 1245,  164, 2904,  897, 3196, 2611,   66, 1659,\n",
       "        8120, 5994, 3179, 2661, 3720, 2496, 5532, 6768, 7096, 3691, 1175, 1418,\n",
       "        7352, 3255, 1552,  871, 1624, 1605, 2465, 3731, 8471, 2893,    0, 8245,\n",
       "        2192, 4509, 5789, 5469,  787, 2019, 1638,  530, 5094, 1603,  998, 8702,\n",
       "        1119, 4493, 7774, 3987, 4608, 2851, 1382, 4070, 2951, 7751, 7965, 1057,\n",
       "        7284,  101,  425,  436, 1059, 1524, 4612,  757, 1318, 6806, 6367, 6962,\n",
       "        6113, 7812, 7224, 2179, 1601, 1491, 5742, 2358, 2449,  484, 8728, 4131,\n",
       "           4, 3784, 2609, 4589, 7598,  661, 4556, 4890, 4810, 4795, 1982, 5123,\n",
       "        4365, 4324, 2105, 4106]))"
      ]
     },
     "execution_count": 160,
     "metadata": {},
     "output_type": "execute_result"
    }
   ],
   "source": [
    "top100"
   ]
  },
  {
   "cell_type": "code",
   "execution_count": null,
   "metadata": {},
   "outputs": [
    {
     "ename": "NameError",
     "evalue": "name 'df' is not defined",
     "output_type": "error",
     "traceback": [
      "\u001b[1;31m---------------------------------------------------------------------------\u001b[0m",
      "\u001b[1;31mNameError\u001b[0m                                 Traceback (most recent call last)",
      "\u001b[1;32mc:\\Users\\pamar\\Desktop\\Q5\\Datathon_fme_2023\\recomendations.ipynb Cell 17\u001b[0m line \u001b[0;36m1\n\u001b[1;32m----> <a href='vscode-notebook-cell:/c%3A/Users/pamar/Desktop/Q5/Datathon_fme_2023/recomendations.ipynb#X23sZmlsZQ%3D%3D?line=0'>1</a>\u001b[0m df\n",
      "\u001b[1;31mNameError\u001b[0m: name 'df' is not defined"
     ]
    }
   ],
   "source": []
  }
 ],
 "metadata": {
  "kernelspec": {
   "display_name": "AA2",
   "language": "python",
   "name": "python3"
  },
  "language_info": {
   "codemirror_mode": {
    "name": "ipython",
    "version": 3
   },
   "file_extension": ".py",
   "mimetype": "text/x-python",
   "name": "python",
   "nbconvert_exporter": "python",
   "pygments_lexer": "ipython3",
   "version": "3.11.3"
  }
 },
 "nbformat": 4,
 "nbformat_minor": 2
}
