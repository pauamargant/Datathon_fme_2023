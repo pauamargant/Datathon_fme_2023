{
 "cells": [
  {
   "cell_type": "markdown",
   "metadata": {},
   "source": [
    "# Preprocessing the data"
   ]
  },
  {
   "cell_type": "code",
   "execution_count": 19,
   "metadata": {},
   "outputs": [],
   "source": [
    "import pandas as pd\n",
    "import numpy as np"
   ]
  },
  {
   "cell_type": "code",
   "execution_count": 20,
   "metadata": {},
   "outputs": [],
   "source": [
    "outfit_data = pd.read_csv(\"../dataset/outfit_data.csv\")\n",
    "product_data = pd.read_csv(\"../dataset/product_data.csv\")"
   ]
  },
  {
   "cell_type": "code",
   "execution_count": 21,
   "metadata": {},
   "outputs": [
    {
     "name": "stdout",
     "output_type": "stream",
     "text": [
      "(43582, 2)\n",
      "(9222, 13)\n"
     ]
    }
   ],
   "source": [
    "print(outfit_data.shape)\n",
    "print(product_data.shape)"
   ]
  },
  {
   "cell_type": "markdown",
   "metadata": {},
   "source": [
    "We discard some categories, as they do not belong to clothes and also categories with really low value counts. "
   ]
  },
  {
   "cell_type": "code",
   "execution_count": 22,
   "metadata": {},
   "outputs": [],
   "source": [
    "non_interseting_codes = product_data[product_data['des_product_family'].isin(['Fragances', 'Deco Accessories', 'Intimate', 'Deco Textiles', 'Bedding']) | product_data[\"des_sex\"].isin([\"Male\",\"Unisex\"]) | product_data[\"des_age\"].isin([\"Kids\"])]['cod_modelo_color']\n",
    "\n",
    "product_data = product_data[~product_data['cod_modelo_color'].isin(non_interseting_codes)]\n",
    "outfit_data = outfit_data[~outfit_data['cod_modelo_color'].isin(non_interseting_codes)]"
   ]
  },
  {
   "cell_type": "code",
   "execution_count": 23,
   "metadata": {},
   "outputs": [
    {
     "name": "stdout",
     "output_type": "stream",
     "text": [
      "(42827, 2)\n",
      "(8986, 13)\n"
     ]
    }
   ],
   "source": [
    "print(outfit_data.shape)\n",
    "print(product_data.shape)"
   ]
  },
  {
   "cell_type": "markdown",
   "metadata": {},
   "source": [
    "### Product data"
   ]
  },
  {
   "cell_type": "code",
   "execution_count": 24,
   "metadata": {},
   "outputs": [],
   "source": [
    "# product_data.head(10)"
   ]
  },
  {
   "cell_type": "markdown",
   "metadata": {},
   "source": [
    "We imputate color value for the ones that do not have an integer code."
   ]
  },
  {
   "cell_type": "code",
   "execution_count": 25,
   "metadata": {},
   "outputs": [],
   "source": [
    "product_data['cod_color_code'] = pd.to_numeric(product_data['cod_color_code'], errors='coerce')\n",
    "\n",
    "mean_values = product_data.groupby('des_agrup_color_eng')['cod_color_code'].mean()\n",
    "\n",
    "def replace_nan_with_mean(row):\n",
    "    if np.isnan(row['cod_color_code']):\n",
    "        return mean_values[row['des_agrup_color_eng']]\n",
    "    else:\n",
    "        return row['cod_color_code']\n",
    "\n",
    "product_data['cod_color_code'] = product_data.apply(replace_nan_with_mean, axis=1)  "
   ]
  },
  {
   "cell_type": "code",
   "execution_count": 26,
   "metadata": {},
   "outputs": [
    {
     "data": {
      "text/html": [
       "<div>\n",
       "<style scoped>\n",
       "    .dataframe tbody tr th:only-of-type {\n",
       "        vertical-align: middle;\n",
       "    }\n",
       "\n",
       "    .dataframe tbody tr th {\n",
       "        vertical-align: top;\n",
       "    }\n",
       "\n",
       "    .dataframe thead th {\n",
       "        text-align: right;\n",
       "    }\n",
       "</style>\n",
       "<table border=\"1\" class=\"dataframe\">\n",
       "  <thead>\n",
       "    <tr style=\"text-align: right;\">\n",
       "      <th></th>\n",
       "      <th>cod_modelo_color</th>\n",
       "      <th>cod_color_code</th>\n",
       "      <th>des_color_specification_esp</th>\n",
       "      <th>des_agrup_color_eng</th>\n",
       "      <th>des_sex</th>\n",
       "      <th>des_age</th>\n",
       "      <th>des_line</th>\n",
       "      <th>des_fabric</th>\n",
       "      <th>des_product_category</th>\n",
       "      <th>des_product_aggregated_family</th>\n",
       "      <th>des_product_family</th>\n",
       "      <th>des_product_type</th>\n",
       "      <th>des_filename</th>\n",
       "    </tr>\n",
       "  </thead>\n",
       "  <tbody>\n",
       "    <tr>\n",
       "      <th>0</th>\n",
       "      <td>41085800-02</td>\n",
       "      <td>2.000000</td>\n",
       "      <td>OFFWHITE</td>\n",
       "      <td>WHITE</td>\n",
       "      <td>Female</td>\n",
       "      <td>Adult</td>\n",
       "      <td>SHE</td>\n",
       "      <td>P-PLANA</td>\n",
       "      <td>Bottoms</td>\n",
       "      <td>Trousers &amp; leggings</td>\n",
       "      <td>Trousers</td>\n",
       "      <td>Trousers</td>\n",
       "      <td>2019_41085800_02.jpg</td>\n",
       "    </tr>\n",
       "    <tr>\n",
       "      <th>1</th>\n",
       "      <td>53000586-TO</td>\n",
       "      <td>53.825949</td>\n",
       "      <td>TEJANO OSCURO</td>\n",
       "      <td>BLUE</td>\n",
       "      <td>Female</td>\n",
       "      <td>Adult</td>\n",
       "      <td>SHE</td>\n",
       "      <td>J-JEANS</td>\n",
       "      <td>Bottoms</td>\n",
       "      <td>Jeans</td>\n",
       "      <td>Jeans</td>\n",
       "      <td>Jeans</td>\n",
       "      <td>2019_53000586_TO.jpg</td>\n",
       "    </tr>\n",
       "    <tr>\n",
       "      <th>2</th>\n",
       "      <td>53030601-81</td>\n",
       "      <td>81.000000</td>\n",
       "      <td>ROSA PASTEL</td>\n",
       "      <td>PINK</td>\n",
       "      <td>Female</td>\n",
       "      <td>Adult</td>\n",
       "      <td>SHE</td>\n",
       "      <td>P-PLANA</td>\n",
       "      <td>Dresses, jumpsuits and Complete set</td>\n",
       "      <td>Dresses and jumpsuits</td>\n",
       "      <td>Dresses</td>\n",
       "      <td>Dress</td>\n",
       "      <td>2019_53030601_81.jpg</td>\n",
       "    </tr>\n",
       "    <tr>\n",
       "      <th>3</th>\n",
       "      <td>53050730-15</td>\n",
       "      <td>15.000000</td>\n",
       "      <td>MOSTAZA</td>\n",
       "      <td>YELLOW</td>\n",
       "      <td>Female</td>\n",
       "      <td>Adult</td>\n",
       "      <td>SHE</td>\n",
       "      <td>P-PLANA</td>\n",
       "      <td>Dresses, jumpsuits and Complete set</td>\n",
       "      <td>Dresses and jumpsuits</td>\n",
       "      <td>Dresses</td>\n",
       "      <td>Dress</td>\n",
       "      <td>2019_53050730_15.jpg</td>\n",
       "    </tr>\n",
       "    <tr>\n",
       "      <th>4</th>\n",
       "      <td>53070773-70</td>\n",
       "      <td>70.000000</td>\n",
       "      <td>ROJO</td>\n",
       "      <td>RED</td>\n",
       "      <td>Female</td>\n",
       "      <td>Adult</td>\n",
       "      <td>SHE</td>\n",
       "      <td>P-PLANA</td>\n",
       "      <td>Tops</td>\n",
       "      <td>Shirts</td>\n",
       "      <td>Shirt</td>\n",
       "      <td>Shirt</td>\n",
       "      <td>2019_53070773_70.jpg</td>\n",
       "    </tr>\n",
       "  </tbody>\n",
       "</table>\n",
       "</div>"
      ],
      "text/plain": [
       "  cod_modelo_color  cod_color_code des_color_specification_esp   \n",
       "0      41085800-02        2.000000                    OFFWHITE  \\\n",
       "1      53000586-TO       53.825949               TEJANO OSCURO   \n",
       "2      53030601-81       81.000000                 ROSA PASTEL   \n",
       "3      53050730-15       15.000000                     MOSTAZA   \n",
       "4      53070773-70       70.000000                        ROJO   \n",
       "\n",
       "  des_agrup_color_eng des_sex des_age des_line des_fabric   \n",
       "0               WHITE  Female   Adult      SHE    P-PLANA  \\\n",
       "1                BLUE  Female   Adult      SHE    J-JEANS   \n",
       "2                PINK  Female   Adult      SHE    P-PLANA   \n",
       "3              YELLOW  Female   Adult      SHE    P-PLANA   \n",
       "4                 RED  Female   Adult      SHE    P-PLANA   \n",
       "\n",
       "                  des_product_category des_product_aggregated_family   \n",
       "0                              Bottoms           Trousers & leggings  \\\n",
       "1                              Bottoms                         Jeans   \n",
       "2  Dresses, jumpsuits and Complete set         Dresses and jumpsuits   \n",
       "3  Dresses, jumpsuits and Complete set         Dresses and jumpsuits   \n",
       "4                                 Tops                        Shirts   \n",
       "\n",
       "  des_product_family des_product_type          des_filename  \n",
       "0           Trousers         Trousers  2019_41085800_02.jpg  \n",
       "1              Jeans            Jeans  2019_53000586_TO.jpg  \n",
       "2            Dresses            Dress  2019_53030601_81.jpg  \n",
       "3            Dresses            Dress  2019_53050730_15.jpg  \n",
       "4              Shirt            Shirt  2019_53070773_70.jpg  "
      ]
     },
     "execution_count": 26,
     "metadata": {},
     "output_type": "execute_result"
    }
   ],
   "source": [
    "product_data['des_filename'] = product_data['des_filename'].apply(lambda x: x.split('/')[-1])\n",
    "product_data.head(5)"
   ]
  },
  {
   "cell_type": "code",
   "execution_count": 27,
   "metadata": {},
   "outputs": [
    {
     "data": {
      "text/plain": [
       "cod_modelo_color                 0\n",
       "cod_color_code                   0\n",
       "des_color_specification_esp      0\n",
       "des_agrup_color_eng              0\n",
       "des_sex                          0\n",
       "des_age                          0\n",
       "des_line                         0\n",
       "des_fabric                       0\n",
       "des_product_category             0\n",
       "des_product_aggregated_family    0\n",
       "des_product_family               0\n",
       "des_product_type                 0\n",
       "des_filename                     0\n",
       "dtype: int64"
      ]
     },
     "execution_count": 27,
     "metadata": {},
     "output_type": "execute_result"
    }
   ],
   "source": [
    "product_data.isnull().sum()"
   ]
  },
  {
   "cell_type": "code",
   "execution_count": 28,
   "metadata": {},
   "outputs": [
    {
     "data": {
      "text/plain": [
       "Index(['cod_modelo_color', 'cod_color_code', 'des_color_specification_esp',\n",
       "       'des_agrup_color_eng', 'des_sex', 'des_age', 'des_line', 'des_fabric',\n",
       "       'des_product_category', 'des_product_aggregated_family',\n",
       "       'des_product_family', 'des_product_type', 'des_filename'],\n",
       "      dtype='object')"
      ]
     },
     "execution_count": 28,
     "metadata": {},
     "output_type": "execute_result"
    }
   ],
   "source": [
    "product_data.columns"
   ]
  },
  {
   "cell_type": "code",
   "execution_count": 29,
   "metadata": {},
   "outputs": [
    {
     "data": {
      "text/plain": [
       "des_line\n",
       "SHE        8979\n",
       "VIOLETA       7\n",
       "Name: count, dtype: int64"
      ]
     },
     "execution_count": 29,
     "metadata": {},
     "output_type": "execute_result"
    }
   ],
   "source": [
    "product_data['des_line'].value_counts()"
   ]
  },
  {
   "cell_type": "code",
   "execution_count": 30,
   "metadata": {},
   "outputs": [
    {
     "data": {
      "text/plain": [
       "des_fabric\n",
       "P-PLANA           2951\n",
       "C-COMPLEMENTOS    2479\n",
       "K-CIRCULAR        1532\n",
       "T-TRICOT          1250\n",
       "J-JEANS            606\n",
       "O-POLIPIEL          97\n",
       "L-PIEL              71\n",
       "Name: count, dtype: int64"
      ]
     },
     "execution_count": 30,
     "metadata": {},
     "output_type": "execute_result"
    }
   ],
   "source": [
    "product_data['des_fabric'].value_counts()"
   ]
  },
  {
   "cell_type": "code",
   "execution_count": 31,
   "metadata": {},
   "outputs": [],
   "source": [
    "columns = ['cod_modelo_color', 'cod_color_code', 'des_agrup_color_eng', 'des_fabric', 'des_product_category',\n",
    "           'des_product_type', 'des_filename', 'des_product_family']"
   ]
  },
  {
   "cell_type": "code",
   "execution_count": 32,
   "metadata": {},
   "outputs": [],
   "source": [
    "product_data= product_data[columns]\n",
    "columns_to_encode = product_data.columns.difference(['cod_modelo_color', 'des_filename', 'cod_color_code'])\n",
    "product_data.to_csv(\"../dataset/product_data_cleaned.csv\")"
   ]
  },
  {
   "cell_type": "markdown",
   "metadata": {},
   "source": [
    "We perform one-hot encoding for the categorical data"
   ]
  },
  {
   "cell_type": "code",
   "execution_count": 33,
   "metadata": {},
   "outputs": [
    {
     "data": {
      "text/html": [
       "<div>\n",
       "<style scoped>\n",
       "    .dataframe tbody tr th:only-of-type {\n",
       "        vertical-align: middle;\n",
       "    }\n",
       "\n",
       "    .dataframe tbody tr th {\n",
       "        vertical-align: top;\n",
       "    }\n",
       "\n",
       "    .dataframe thead th {\n",
       "        text-align: right;\n",
       "    }\n",
       "</style>\n",
       "<table border=\"1\" class=\"dataframe\">\n",
       "  <thead>\n",
       "    <tr style=\"text-align: right;\">\n",
       "      <th></th>\n",
       "      <th>cod_modelo_color</th>\n",
       "      <th>cod_color_code</th>\n",
       "      <th>des_filename</th>\n",
       "      <th>des_agrup_color_eng_BLUE</th>\n",
       "      <th>des_agrup_color_eng_BROWN</th>\n",
       "      <th>des_agrup_color_eng_GREEN</th>\n",
       "      <th>des_agrup_color_eng_GREY</th>\n",
       "      <th>des_agrup_color_eng_ORANGE</th>\n",
       "      <th>des_agrup_color_eng_PINK</th>\n",
       "      <th>des_agrup_color_eng_PURPLE</th>\n",
       "      <th>...</th>\n",
       "      <th>des_product_type_Tie</th>\n",
       "      <th>des_product_type_Top</th>\n",
       "      <th>des_product_type_Totes bag</th>\n",
       "      <th>des_product_type_Trainers</th>\n",
       "      <th>des_product_type_Trenchcoat</th>\n",
       "      <th>des_product_type_Trousers</th>\n",
       "      <th>des_product_type_Turban</th>\n",
       "      <th>des_product_type_Umbrella</th>\n",
       "      <th>des_product_type_Vest</th>\n",
       "      <th>des_product_type_Wallet</th>\n",
       "    </tr>\n",
       "  </thead>\n",
       "  <tbody>\n",
       "    <tr>\n",
       "      <th>0</th>\n",
       "      <td>41085800-02</td>\n",
       "      <td>2.000000</td>\n",
       "      <td>2019_41085800_02.jpg</td>\n",
       "      <td>0</td>\n",
       "      <td>0</td>\n",
       "      <td>0</td>\n",
       "      <td>0</td>\n",
       "      <td>0</td>\n",
       "      <td>0</td>\n",
       "      <td>0</td>\n",
       "      <td>...</td>\n",
       "      <td>0</td>\n",
       "      <td>0</td>\n",
       "      <td>0</td>\n",
       "      <td>0</td>\n",
       "      <td>0</td>\n",
       "      <td>1</td>\n",
       "      <td>0</td>\n",
       "      <td>0</td>\n",
       "      <td>0</td>\n",
       "      <td>0</td>\n",
       "    </tr>\n",
       "    <tr>\n",
       "      <th>1</th>\n",
       "      <td>53000586-TO</td>\n",
       "      <td>53.825949</td>\n",
       "      <td>2019_53000586_TO.jpg</td>\n",
       "      <td>1</td>\n",
       "      <td>0</td>\n",
       "      <td>0</td>\n",
       "      <td>0</td>\n",
       "      <td>0</td>\n",
       "      <td>0</td>\n",
       "      <td>0</td>\n",
       "      <td>...</td>\n",
       "      <td>0</td>\n",
       "      <td>0</td>\n",
       "      <td>0</td>\n",
       "      <td>0</td>\n",
       "      <td>0</td>\n",
       "      <td>0</td>\n",
       "      <td>0</td>\n",
       "      <td>0</td>\n",
       "      <td>0</td>\n",
       "      <td>0</td>\n",
       "    </tr>\n",
       "    <tr>\n",
       "      <th>2</th>\n",
       "      <td>53030601-81</td>\n",
       "      <td>81.000000</td>\n",
       "      <td>2019_53030601_81.jpg</td>\n",
       "      <td>0</td>\n",
       "      <td>0</td>\n",
       "      <td>0</td>\n",
       "      <td>0</td>\n",
       "      <td>0</td>\n",
       "      <td>1</td>\n",
       "      <td>0</td>\n",
       "      <td>...</td>\n",
       "      <td>0</td>\n",
       "      <td>0</td>\n",
       "      <td>0</td>\n",
       "      <td>0</td>\n",
       "      <td>0</td>\n",
       "      <td>0</td>\n",
       "      <td>0</td>\n",
       "      <td>0</td>\n",
       "      <td>0</td>\n",
       "      <td>0</td>\n",
       "    </tr>\n",
       "    <tr>\n",
       "      <th>3</th>\n",
       "      <td>53050730-15</td>\n",
       "      <td>15.000000</td>\n",
       "      <td>2019_53050730_15.jpg</td>\n",
       "      <td>0</td>\n",
       "      <td>0</td>\n",
       "      <td>0</td>\n",
       "      <td>0</td>\n",
       "      <td>0</td>\n",
       "      <td>0</td>\n",
       "      <td>0</td>\n",
       "      <td>...</td>\n",
       "      <td>0</td>\n",
       "      <td>0</td>\n",
       "      <td>0</td>\n",
       "      <td>0</td>\n",
       "      <td>0</td>\n",
       "      <td>0</td>\n",
       "      <td>0</td>\n",
       "      <td>0</td>\n",
       "      <td>0</td>\n",
       "      <td>0</td>\n",
       "    </tr>\n",
       "    <tr>\n",
       "      <th>4</th>\n",
       "      <td>53070773-70</td>\n",
       "      <td>70.000000</td>\n",
       "      <td>2019_53070773_70.jpg</td>\n",
       "      <td>0</td>\n",
       "      <td>0</td>\n",
       "      <td>0</td>\n",
       "      <td>0</td>\n",
       "      <td>0</td>\n",
       "      <td>0</td>\n",
       "      <td>0</td>\n",
       "      <td>...</td>\n",
       "      <td>0</td>\n",
       "      <td>0</td>\n",
       "      <td>0</td>\n",
       "      <td>0</td>\n",
       "      <td>0</td>\n",
       "      <td>0</td>\n",
       "      <td>0</td>\n",
       "      <td>0</td>\n",
       "      <td>0</td>\n",
       "      <td>0</td>\n",
       "    </tr>\n",
       "  </tbody>\n",
       "</table>\n",
       "<p>5 rows × 145 columns</p>\n",
       "</div>"
      ],
      "text/plain": [
       "  cod_modelo_color  cod_color_code          des_filename   \n",
       "0      41085800-02        2.000000  2019_41085800_02.jpg  \\\n",
       "1      53000586-TO       53.825949  2019_53000586_TO.jpg   \n",
       "2      53030601-81       81.000000  2019_53030601_81.jpg   \n",
       "3      53050730-15       15.000000  2019_53050730_15.jpg   \n",
       "4      53070773-70       70.000000  2019_53070773_70.jpg   \n",
       "\n",
       "   des_agrup_color_eng_BLUE  des_agrup_color_eng_BROWN   \n",
       "0                         0                          0  \\\n",
       "1                         1                          0   \n",
       "2                         0                          0   \n",
       "3                         0                          0   \n",
       "4                         0                          0   \n",
       "\n",
       "   des_agrup_color_eng_GREEN  des_agrup_color_eng_GREY   \n",
       "0                          0                         0  \\\n",
       "1                          0                         0   \n",
       "2                          0                         0   \n",
       "3                          0                         0   \n",
       "4                          0                         0   \n",
       "\n",
       "   des_agrup_color_eng_ORANGE  des_agrup_color_eng_PINK   \n",
       "0                           0                         0  \\\n",
       "1                           0                         0   \n",
       "2                           0                         1   \n",
       "3                           0                         0   \n",
       "4                           0                         0   \n",
       "\n",
       "   des_agrup_color_eng_PURPLE  ...  des_product_type_Tie   \n",
       "0                           0  ...                     0  \\\n",
       "1                           0  ...                     0   \n",
       "2                           0  ...                     0   \n",
       "3                           0  ...                     0   \n",
       "4                           0  ...                     0   \n",
       "\n",
       "   des_product_type_Top  des_product_type_Totes bag   \n",
       "0                     0                           0  \\\n",
       "1                     0                           0   \n",
       "2                     0                           0   \n",
       "3                     0                           0   \n",
       "4                     0                           0   \n",
       "\n",
       "   des_product_type_Trainers  des_product_type_Trenchcoat   \n",
       "0                          0                            0  \\\n",
       "1                          0                            0   \n",
       "2                          0                            0   \n",
       "3                          0                            0   \n",
       "4                          0                            0   \n",
       "\n",
       "   des_product_type_Trousers  des_product_type_Turban   \n",
       "0                          1                        0  \\\n",
       "1                          0                        0   \n",
       "2                          0                        0   \n",
       "3                          0                        0   \n",
       "4                          0                        0   \n",
       "\n",
       "   des_product_type_Umbrella  des_product_type_Vest  des_product_type_Wallet  \n",
       "0                          0                      0                        0  \n",
       "1                          0                      0                        0  \n",
       "2                          0                      0                        0  \n",
       "3                          0                      0                        0  \n",
       "4                          0                      0                        0  \n",
       "\n",
       "[5 rows x 145 columns]"
      ]
     },
     "execution_count": 33,
     "metadata": {},
     "output_type": "execute_result"
    }
   ],
   "source": [
    "encoded_product_data = pd.get_dummies(product_data, columns=columns_to_encode, dtype=int)\n",
    "encoded_product_data.shape\n",
    "encoded_product_data.head(5)"
   ]
  },
  {
   "cell_type": "markdown",
   "metadata": {},
   "source": [
    "### Outfit data"
   ]
  },
  {
   "cell_type": "code",
   "execution_count": 34,
   "metadata": {},
   "outputs": [
    {
     "data": {
      "text/html": [
       "<div>\n",
       "<style scoped>\n",
       "    .dataframe tbody tr th:only-of-type {\n",
       "        vertical-align: middle;\n",
       "    }\n",
       "\n",
       "    .dataframe tbody tr th {\n",
       "        vertical-align: top;\n",
       "    }\n",
       "\n",
       "    .dataframe thead th {\n",
       "        text-align: right;\n",
       "    }\n",
       "</style>\n",
       "<table border=\"1\" class=\"dataframe\">\n",
       "  <thead>\n",
       "    <tr style=\"text-align: right;\">\n",
       "      <th></th>\n",
       "      <th>cod_outfit</th>\n",
       "      <th>cod_modelo_color</th>\n",
       "    </tr>\n",
       "  </thead>\n",
       "  <tbody>\n",
       "    <tr>\n",
       "      <th>0</th>\n",
       "      <td>1</td>\n",
       "      <td>51000622-02</td>\n",
       "    </tr>\n",
       "    <tr>\n",
       "      <th>1</th>\n",
       "      <td>1</td>\n",
       "      <td>43067759-01</td>\n",
       "    </tr>\n",
       "    <tr>\n",
       "      <th>2</th>\n",
       "      <td>1</td>\n",
       "      <td>53060518-02</td>\n",
       "    </tr>\n",
       "    <tr>\n",
       "      <th>3</th>\n",
       "      <td>1</td>\n",
       "      <td>53030594-08</td>\n",
       "    </tr>\n",
       "    <tr>\n",
       "      <th>4</th>\n",
       "      <td>1</td>\n",
       "      <td>43077762-01</td>\n",
       "    </tr>\n",
       "    <tr>\n",
       "      <th>5</th>\n",
       "      <td>1</td>\n",
       "      <td>43063724-OR</td>\n",
       "    </tr>\n",
       "    <tr>\n",
       "      <th>6</th>\n",
       "      <td>1</td>\n",
       "      <td>43075794-OR</td>\n",
       "    </tr>\n",
       "  </tbody>\n",
       "</table>\n",
       "</div>"
      ],
      "text/plain": [
       "   cod_outfit cod_modelo_color\n",
       "0           1      51000622-02\n",
       "1           1      43067759-01\n",
       "2           1      53060518-02\n",
       "3           1      53030594-08\n",
       "4           1      43077762-01\n",
       "5           1      43063724-OR\n",
       "6           1      43075794-OR"
      ]
     },
     "execution_count": 34,
     "metadata": {},
     "output_type": "execute_result"
    }
   ],
   "source": [
    "outfit_data.head(7)"
   ]
  },
  {
   "cell_type": "code",
   "execution_count": 35,
   "metadata": {},
   "outputs": [
    {
     "data": {
      "text/plain": [
       "cod_outfit          0\n",
       "cod_modelo_color    0\n",
       "dtype: int64"
      ]
     },
     "execution_count": 35,
     "metadata": {},
     "output_type": "execute_result"
    }
   ],
   "source": [
    "outfit_data.isnull().sum()"
   ]
  },
  {
   "cell_type": "markdown",
   "metadata": {},
   "source": [
    "### Save preprocessed files"
   ]
  },
  {
   "cell_type": "code",
   "execution_count": 36,
   "metadata": {},
   "outputs": [],
   "source": [
    "encoded_product_data.to_csv(\"../dataset/product_data_preprocessed.csv\", index=False)\n",
    "outfit_data.to_csv(\"../dataset/outfit_data_preprocessed.csv\", index=False)"
   ]
  }
 ],
 "metadata": {
  "kernelspec": {
   "display_name": "Python 3",
   "language": "python",
   "name": "python3"
  },
  "language_info": {
   "codemirror_mode": {
    "name": "ipython",
    "version": 3
   },
   "file_extension": ".py",
   "mimetype": "text/x-python",
   "name": "python",
   "nbconvert_exporter": "python",
   "pygments_lexer": "ipython3",
   "version": "3.11.3"
  }
 },
 "nbformat": 4,
 "nbformat_minor": 2
}
